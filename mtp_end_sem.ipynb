{
  "cells": [
    {
      "cell_type": "markdown",
      "metadata": {
        "id": "guG1Brds7j6Z"
      },
      "source": [
        "importing libraries"
      ]
    },
    {
      "cell_type": "code",
      "execution_count": 1,
      "metadata": {
        "id": "3ZsNQB187NgN"
      },
      "outputs": [],
      "source": [
        "import numpy as np\n",
        "import tensorflow as tf\n",
        "import pandas as pd\n",
        "from tqdm import tqdm\n",
        "import matplotlib.pyplot as plt\n",
        "import time "
      ]
    },
    {
      "cell_type": "markdown",
      "metadata": {
        "id": "Bt9KOy5h7odu"
      },
      "source": [
        "importing dataset"
      ]
    },
    {
      "cell_type": "code",
      "source": [
        "dataset = pd.read_csv(\"FRCP.csv\" , encoding='windows-1252')\n",
        "X = dataset.iloc[ : , :-1].values\n",
        "y = dataset.iloc[ : , -1].values"
      ],
      "metadata": {
        "id": "jiWU8c1UM3aT"
      },
      "execution_count": 2,
      "outputs": []
    },
    {
      "cell_type": "code",
      "source": [
        "print(X)\n",
        "print(y)"
      ],
      "metadata": {
        "colab": {
          "base_uri": "https://localhost:8080/"
        },
        "id": "_fd2gWtuNJFa",
        "outputId": "cf7fdb2b-87be-46ab-b0ed-fffe2ac65b9f"
      },
      "execution_count": 3,
      "outputs": [
        {
          "output_type": "stream",
          "name": "stdout",
          "text": [
            "[['Div1' 'Workplace Safety' ', Structural Integrity']\n",
            " ['Div1' 'Workplace Safety' ', Structural Integrity']\n",
            " ['Div9' 'Workplace Safety'\n",
            "  ', Electrical Safety, Cleaning & Housekeeping']\n",
            " ...\n",
            " ['Div8' 'Workplace Safety' ', Electrical Safety']\n",
            " ['Div9' 'Workplace Safety' ', Barricading']\n",
            " ['Div9' 'Rail Road Safety' ', Road Condition']]\n",
            "[4 4 4 ... 4 4 4]\n"
          ]
        }
      ]
    },
    {
      "cell_type": "code",
      "source": [
        "def func1(lis) :\n",
        "    \n",
        "    data = []\n",
        "    \n",
        "    #print(\"original strings in dataset- \",lis)\n",
        "\n",
        "    cols = {}\n",
        "    \n",
        "    for i in range(len(lis)) :\n",
        "        if lis[i] in cols :\n",
        "            cols[lis[i]].append(i)\n",
        "        else :\n",
        "            cols[lis[i]] = []\n",
        "            cols[lis[i]].append(i)\n",
        "    \n",
        "    #print(\"final dict- \", cols)\n",
        "\n",
        "    for i in range(len(lis)) :\n",
        "        temp = []\n",
        "        for j in range(len(cols)) :\n",
        "            temp.append(0)\n",
        "        data.append(temp)\n",
        "    \n",
        "    for c, key in enumerate(cols) :\n",
        "        for r in cols[key] :\n",
        "            data[r][c] = 1\n",
        "\n",
        "    #print(\"data size- \", len(data), \", \", len(data[0]))          \n",
        "    #print(\"final data- \",data)\n",
        "    #print(\"\")\n",
        "    return data"
      ],
      "metadata": {
        "id": "VyDLlAdcNLCd"
      },
      "execution_count": 4,
      "outputs": []
    },
    {
      "cell_type": "code",
      "source": [
        "def func2(lis) :\n",
        "    \n",
        "    data = []\n",
        "    \n",
        "    #print(\"original strings in dataset- \",lis)\n",
        "    \n",
        "    for i in range(len(lis)) :\n",
        "        lis[i] = lis[i].replace(' ','');\n",
        "        lis[i] = lis[i].split(',')\n",
        "        lis[i].pop(0)\n",
        "    \n",
        "    #print(\"list of all attributes in each row- \", lis)\n",
        "    \n",
        "    cols = {}\n",
        "    \n",
        "    for i in range(len(lis)) :\n",
        "        for j in range(len(lis[i])) :\n",
        "            if lis[i][j] in cols :\n",
        "                cols[lis[i][j]].append(i)\n",
        "            else :\n",
        "                #print(lis[i][j])\n",
        "                cols[lis[i][j]] = []\n",
        "                cols[lis[i][j]].append(i)\n",
        "    \n",
        "    #print(\"final dict- \", cols)\n",
        "    \n",
        "    for i in range(len(lis)) :\n",
        "        temp = []\n",
        "        for j in range(len(cols)) :\n",
        "            temp.append(0)\n",
        "        data.append(temp)\n",
        "    \n",
        "    for c, key in enumerate(cols) :\n",
        "        for r in cols[key] :\n",
        "            data[r][c] = 1\n",
        "\n",
        "    #print(\"data size- \", len(data), \", \", len(data[0]))        \n",
        "    #print(\"final data- \",data)\n",
        "    #print(\"\")\n",
        "    return data"
      ],
      "metadata": {
        "id": "jMPgkTODNNUQ"
      },
      "execution_count": 5,
      "outputs": []
    },
    {
      "cell_type": "code",
      "source": [
        "X = np.array(X)"
      ],
      "metadata": {
        "id": "w2toKcw-NPta"
      },
      "execution_count": 6,
      "outputs": []
    },
    {
      "cell_type": "code",
      "source": [
        "dataset = pd.DataFrame(func1(X[:,0]))\n",
        "d2 = pd.DataFrame(func1(X[:,1]))\n",
        "d3 = pd.DataFrame(func2(X[:,2]))\n",
        "\n",
        "dataset = pd.concat([dataset,d2],axis=1)\n",
        "dataset = pd.concat([dataset,d3],axis=1)\n",
        "display(dataset)\n",
        "X = dataset.values"
      ],
      "metadata": {
        "colab": {
          "base_uri": "https://localhost:8080/",
          "height": 423
        },
        "id": "U6Nor7qgNQ-5",
        "outputId": "214733fd-4f6b-4066-c790-7a9834b06c04"
      },
      "execution_count": 7,
      "outputs": [
        {
          "output_type": "display_data",
          "data": {
            "text/plain": [
              "      0   1   2   3   4   5   6   7   8   9   ...  56  57  58  59  60  61  62  \\\n",
              "0      1   0   0   0   0   0   0   0   0   0  ...   0   0   0   0   0   0   0   \n",
              "1      1   0   0   0   0   0   0   0   0   0  ...   0   0   0   0   0   0   0   \n",
              "2      0   1   0   0   0   0   0   0   0   0  ...   0   0   0   0   0   0   0   \n",
              "3      0   0   1   0   0   0   0   0   0   0  ...   0   0   0   0   0   0   0   \n",
              "4      0   0   0   1   0   0   0   0   0   0  ...   0   0   0   0   0   0   0   \n",
              "...   ..  ..  ..  ..  ..  ..  ..  ..  ..  ..  ...  ..  ..  ..  ..  ..  ..  ..   \n",
              "8816   0   0   1   0   0   0   0   0   0   0  ...   0   0   0   0   0   0   0   \n",
              "8817   0   1   0   0   0   0   0   0   0   0  ...   0   0   0   0   0   0   0   \n",
              "8818   0   0   1   0   0   0   0   0   0   0  ...   0   0   0   0   0   0   0   \n",
              "8819   0   1   0   0   0   0   0   0   0   0  ...   0   0   0   0   0   0   0   \n",
              "8820   0   1   0   0   0   0   0   0   0   0  ...   0   0   0   0   0   0   0   \n",
              "\n",
              "      63  64  65  \n",
              "0      0   0   0  \n",
              "1      0   0   0  \n",
              "2      0   0   0  \n",
              "3      0   0   0  \n",
              "4      0   0   0  \n",
              "...   ..  ..  ..  \n",
              "8816   0   0   0  \n",
              "8817   0   0   0  \n",
              "8818   0   0   0  \n",
              "8819   0   0   0  \n",
              "8820   0   0   0  \n",
              "\n",
              "[8821 rows x 86 columns]"
            ],
            "text/html": [
              "\n",
              "  <div id=\"df-10840888-0170-4632-801f-5ffd3ca0c3bd\">\n",
              "    <div class=\"colab-df-container\">\n",
              "      <div>\n",
              "<style scoped>\n",
              "    .dataframe tbody tr th:only-of-type {\n",
              "        vertical-align: middle;\n",
              "    }\n",
              "\n",
              "    .dataframe tbody tr th {\n",
              "        vertical-align: top;\n",
              "    }\n",
              "\n",
              "    .dataframe thead th {\n",
              "        text-align: right;\n",
              "    }\n",
              "</style>\n",
              "<table border=\"1\" class=\"dataframe\">\n",
              "  <thead>\n",
              "    <tr style=\"text-align: right;\">\n",
              "      <th></th>\n",
              "      <th>0</th>\n",
              "      <th>1</th>\n",
              "      <th>2</th>\n",
              "      <th>3</th>\n",
              "      <th>4</th>\n",
              "      <th>5</th>\n",
              "      <th>6</th>\n",
              "      <th>7</th>\n",
              "      <th>8</th>\n",
              "      <th>9</th>\n",
              "      <th>...</th>\n",
              "      <th>56</th>\n",
              "      <th>57</th>\n",
              "      <th>58</th>\n",
              "      <th>59</th>\n",
              "      <th>60</th>\n",
              "      <th>61</th>\n",
              "      <th>62</th>\n",
              "      <th>63</th>\n",
              "      <th>64</th>\n",
              "      <th>65</th>\n",
              "    </tr>\n",
              "  </thead>\n",
              "  <tbody>\n",
              "    <tr>\n",
              "      <th>0</th>\n",
              "      <td>1</td>\n",
              "      <td>0</td>\n",
              "      <td>0</td>\n",
              "      <td>0</td>\n",
              "      <td>0</td>\n",
              "      <td>0</td>\n",
              "      <td>0</td>\n",
              "      <td>0</td>\n",
              "      <td>0</td>\n",
              "      <td>0</td>\n",
              "      <td>...</td>\n",
              "      <td>0</td>\n",
              "      <td>0</td>\n",
              "      <td>0</td>\n",
              "      <td>0</td>\n",
              "      <td>0</td>\n",
              "      <td>0</td>\n",
              "      <td>0</td>\n",
              "      <td>0</td>\n",
              "      <td>0</td>\n",
              "      <td>0</td>\n",
              "    </tr>\n",
              "    <tr>\n",
              "      <th>1</th>\n",
              "      <td>1</td>\n",
              "      <td>0</td>\n",
              "      <td>0</td>\n",
              "      <td>0</td>\n",
              "      <td>0</td>\n",
              "      <td>0</td>\n",
              "      <td>0</td>\n",
              "      <td>0</td>\n",
              "      <td>0</td>\n",
              "      <td>0</td>\n",
              "      <td>...</td>\n",
              "      <td>0</td>\n",
              "      <td>0</td>\n",
              "      <td>0</td>\n",
              "      <td>0</td>\n",
              "      <td>0</td>\n",
              "      <td>0</td>\n",
              "      <td>0</td>\n",
              "      <td>0</td>\n",
              "      <td>0</td>\n",
              "      <td>0</td>\n",
              "    </tr>\n",
              "    <tr>\n",
              "      <th>2</th>\n",
              "      <td>0</td>\n",
              "      <td>1</td>\n",
              "      <td>0</td>\n",
              "      <td>0</td>\n",
              "      <td>0</td>\n",
              "      <td>0</td>\n",
              "      <td>0</td>\n",
              "      <td>0</td>\n",
              "      <td>0</td>\n",
              "      <td>0</td>\n",
              "      <td>...</td>\n",
              "      <td>0</td>\n",
              "      <td>0</td>\n",
              "      <td>0</td>\n",
              "      <td>0</td>\n",
              "      <td>0</td>\n",
              "      <td>0</td>\n",
              "      <td>0</td>\n",
              "      <td>0</td>\n",
              "      <td>0</td>\n",
              "      <td>0</td>\n",
              "    </tr>\n",
              "    <tr>\n",
              "      <th>3</th>\n",
              "      <td>0</td>\n",
              "      <td>0</td>\n",
              "      <td>1</td>\n",
              "      <td>0</td>\n",
              "      <td>0</td>\n",
              "      <td>0</td>\n",
              "      <td>0</td>\n",
              "      <td>0</td>\n",
              "      <td>0</td>\n",
              "      <td>0</td>\n",
              "      <td>...</td>\n",
              "      <td>0</td>\n",
              "      <td>0</td>\n",
              "      <td>0</td>\n",
              "      <td>0</td>\n",
              "      <td>0</td>\n",
              "      <td>0</td>\n",
              "      <td>0</td>\n",
              "      <td>0</td>\n",
              "      <td>0</td>\n",
              "      <td>0</td>\n",
              "    </tr>\n",
              "    <tr>\n",
              "      <th>4</th>\n",
              "      <td>0</td>\n",
              "      <td>0</td>\n",
              "      <td>0</td>\n",
              "      <td>1</td>\n",
              "      <td>0</td>\n",
              "      <td>0</td>\n",
              "      <td>0</td>\n",
              "      <td>0</td>\n",
              "      <td>0</td>\n",
              "      <td>0</td>\n",
              "      <td>...</td>\n",
              "      <td>0</td>\n",
              "      <td>0</td>\n",
              "      <td>0</td>\n",
              "      <td>0</td>\n",
              "      <td>0</td>\n",
              "      <td>0</td>\n",
              "      <td>0</td>\n",
              "      <td>0</td>\n",
              "      <td>0</td>\n",
              "      <td>0</td>\n",
              "    </tr>\n",
              "    <tr>\n",
              "      <th>...</th>\n",
              "      <td>...</td>\n",
              "      <td>...</td>\n",
              "      <td>...</td>\n",
              "      <td>...</td>\n",
              "      <td>...</td>\n",
              "      <td>...</td>\n",
              "      <td>...</td>\n",
              "      <td>...</td>\n",
              "      <td>...</td>\n",
              "      <td>...</td>\n",
              "      <td>...</td>\n",
              "      <td>...</td>\n",
              "      <td>...</td>\n",
              "      <td>...</td>\n",
              "      <td>...</td>\n",
              "      <td>...</td>\n",
              "      <td>...</td>\n",
              "      <td>...</td>\n",
              "      <td>...</td>\n",
              "      <td>...</td>\n",
              "      <td>...</td>\n",
              "    </tr>\n",
              "    <tr>\n",
              "      <th>8816</th>\n",
              "      <td>0</td>\n",
              "      <td>0</td>\n",
              "      <td>1</td>\n",
              "      <td>0</td>\n",
              "      <td>0</td>\n",
              "      <td>0</td>\n",
              "      <td>0</td>\n",
              "      <td>0</td>\n",
              "      <td>0</td>\n",
              "      <td>0</td>\n",
              "      <td>...</td>\n",
              "      <td>0</td>\n",
              "      <td>0</td>\n",
              "      <td>0</td>\n",
              "      <td>0</td>\n",
              "      <td>0</td>\n",
              "      <td>0</td>\n",
              "      <td>0</td>\n",
              "      <td>0</td>\n",
              "      <td>0</td>\n",
              "      <td>0</td>\n",
              "    </tr>\n",
              "    <tr>\n",
              "      <th>8817</th>\n",
              "      <td>0</td>\n",
              "      <td>1</td>\n",
              "      <td>0</td>\n",
              "      <td>0</td>\n",
              "      <td>0</td>\n",
              "      <td>0</td>\n",
              "      <td>0</td>\n",
              "      <td>0</td>\n",
              "      <td>0</td>\n",
              "      <td>0</td>\n",
              "      <td>...</td>\n",
              "      <td>0</td>\n",
              "      <td>0</td>\n",
              "      <td>0</td>\n",
              "      <td>0</td>\n",
              "      <td>0</td>\n",
              "      <td>0</td>\n",
              "      <td>0</td>\n",
              "      <td>0</td>\n",
              "      <td>0</td>\n",
              "      <td>0</td>\n",
              "    </tr>\n",
              "    <tr>\n",
              "      <th>8818</th>\n",
              "      <td>0</td>\n",
              "      <td>0</td>\n",
              "      <td>1</td>\n",
              "      <td>0</td>\n",
              "      <td>0</td>\n",
              "      <td>0</td>\n",
              "      <td>0</td>\n",
              "      <td>0</td>\n",
              "      <td>0</td>\n",
              "      <td>0</td>\n",
              "      <td>...</td>\n",
              "      <td>0</td>\n",
              "      <td>0</td>\n",
              "      <td>0</td>\n",
              "      <td>0</td>\n",
              "      <td>0</td>\n",
              "      <td>0</td>\n",
              "      <td>0</td>\n",
              "      <td>0</td>\n",
              "      <td>0</td>\n",
              "      <td>0</td>\n",
              "    </tr>\n",
              "    <tr>\n",
              "      <th>8819</th>\n",
              "      <td>0</td>\n",
              "      <td>1</td>\n",
              "      <td>0</td>\n",
              "      <td>0</td>\n",
              "      <td>0</td>\n",
              "      <td>0</td>\n",
              "      <td>0</td>\n",
              "      <td>0</td>\n",
              "      <td>0</td>\n",
              "      <td>0</td>\n",
              "      <td>...</td>\n",
              "      <td>0</td>\n",
              "      <td>0</td>\n",
              "      <td>0</td>\n",
              "      <td>0</td>\n",
              "      <td>0</td>\n",
              "      <td>0</td>\n",
              "      <td>0</td>\n",
              "      <td>0</td>\n",
              "      <td>0</td>\n",
              "      <td>0</td>\n",
              "    </tr>\n",
              "    <tr>\n",
              "      <th>8820</th>\n",
              "      <td>0</td>\n",
              "      <td>1</td>\n",
              "      <td>0</td>\n",
              "      <td>0</td>\n",
              "      <td>0</td>\n",
              "      <td>0</td>\n",
              "      <td>0</td>\n",
              "      <td>0</td>\n",
              "      <td>0</td>\n",
              "      <td>0</td>\n",
              "      <td>...</td>\n",
              "      <td>0</td>\n",
              "      <td>0</td>\n",
              "      <td>0</td>\n",
              "      <td>0</td>\n",
              "      <td>0</td>\n",
              "      <td>0</td>\n",
              "      <td>0</td>\n",
              "      <td>0</td>\n",
              "      <td>0</td>\n",
              "      <td>0</td>\n",
              "    </tr>\n",
              "  </tbody>\n",
              "</table>\n",
              "<p>8821 rows × 86 columns</p>\n",
              "</div>\n",
              "      <button class=\"colab-df-convert\" onclick=\"convertToInteractive('df-10840888-0170-4632-801f-5ffd3ca0c3bd')\"\n",
              "              title=\"Convert this dataframe to an interactive table.\"\n",
              "              style=\"display:none;\">\n",
              "        \n",
              "  <svg xmlns=\"http://www.w3.org/2000/svg\" height=\"24px\"viewBox=\"0 0 24 24\"\n",
              "       width=\"24px\">\n",
              "    <path d=\"M0 0h24v24H0V0z\" fill=\"none\"/>\n",
              "    <path d=\"M18.56 5.44l.94 2.06.94-2.06 2.06-.94-2.06-.94-.94-2.06-.94 2.06-2.06.94zm-11 1L8.5 8.5l.94-2.06 2.06-.94-2.06-.94L8.5 2.5l-.94 2.06-2.06.94zm10 10l.94 2.06.94-2.06 2.06-.94-2.06-.94-.94-2.06-.94 2.06-2.06.94z\"/><path d=\"M17.41 7.96l-1.37-1.37c-.4-.4-.92-.59-1.43-.59-.52 0-1.04.2-1.43.59L10.3 9.45l-7.72 7.72c-.78.78-.78 2.05 0 2.83L4 21.41c.39.39.9.59 1.41.59.51 0 1.02-.2 1.41-.59l7.78-7.78 2.81-2.81c.8-.78.8-2.07 0-2.86zM5.41 20L4 18.59l7.72-7.72 1.47 1.35L5.41 20z\"/>\n",
              "  </svg>\n",
              "      </button>\n",
              "      \n",
              "  <style>\n",
              "    .colab-df-container {\n",
              "      display:flex;\n",
              "      flex-wrap:wrap;\n",
              "      gap: 12px;\n",
              "    }\n",
              "\n",
              "    .colab-df-convert {\n",
              "      background-color: #E8F0FE;\n",
              "      border: none;\n",
              "      border-radius: 50%;\n",
              "      cursor: pointer;\n",
              "      display: none;\n",
              "      fill: #1967D2;\n",
              "      height: 32px;\n",
              "      padding: 0 0 0 0;\n",
              "      width: 32px;\n",
              "    }\n",
              "\n",
              "    .colab-df-convert:hover {\n",
              "      background-color: #E2EBFA;\n",
              "      box-shadow: 0px 1px 2px rgba(60, 64, 67, 0.3), 0px 1px 3px 1px rgba(60, 64, 67, 0.15);\n",
              "      fill: #174EA6;\n",
              "    }\n",
              "\n",
              "    [theme=dark] .colab-df-convert {\n",
              "      background-color: #3B4455;\n",
              "      fill: #D2E3FC;\n",
              "    }\n",
              "\n",
              "    [theme=dark] .colab-df-convert:hover {\n",
              "      background-color: #434B5C;\n",
              "      box-shadow: 0px 1px 3px 1px rgba(0, 0, 0, 0.15);\n",
              "      filter: drop-shadow(0px 1px 2px rgba(0, 0, 0, 0.3));\n",
              "      fill: #FFFFFF;\n",
              "    }\n",
              "  </style>\n",
              "\n",
              "      <script>\n",
              "        const buttonEl =\n",
              "          document.querySelector('#df-10840888-0170-4632-801f-5ffd3ca0c3bd button.colab-df-convert');\n",
              "        buttonEl.style.display =\n",
              "          google.colab.kernel.accessAllowed ? 'block' : 'none';\n",
              "\n",
              "        async function convertToInteractive(key) {\n",
              "          const element = document.querySelector('#df-10840888-0170-4632-801f-5ffd3ca0c3bd');\n",
              "          const dataTable =\n",
              "            await google.colab.kernel.invokeFunction('convertToInteractive',\n",
              "                                                     [key], {});\n",
              "          if (!dataTable) return;\n",
              "\n",
              "          const docLinkHtml = 'Like what you see? Visit the ' +\n",
              "            '<a target=\"_blank\" href=https://colab.research.google.com/notebooks/data_table.ipynb>data table notebook</a>'\n",
              "            + ' to learn more about interactive tables.';\n",
              "          element.innerHTML = '';\n",
              "          dataTable['output_type'] = 'display_data';\n",
              "          await google.colab.output.renderOutput(dataTable, element);\n",
              "          const docLink = document.createElement('div');\n",
              "          docLink.innerHTML = docLinkHtml;\n",
              "          element.appendChild(docLink);\n",
              "        }\n",
              "      </script>\n",
              "    </div>\n",
              "  </div>\n",
              "  "
            ]
          },
          "metadata": {}
        }
      ]
    },
    {
      "cell_type": "code",
      "source": [
        "from sklearn.preprocessing import LabelEncoder\n",
        "le = LabelEncoder()\n",
        "y = le.fit_transform(y)"
      ],
      "metadata": {
        "id": "-kWWuJOZNTOW"
      },
      "execution_count": 8,
      "outputs": []
    },
    {
      "cell_type": "code",
      "source": [
        "print(X)\n",
        "print(y)"
      ],
      "metadata": {
        "colab": {
          "base_uri": "https://localhost:8080/"
        },
        "id": "oNRxJ5IgNWsq",
        "outputId": "456f8749-d4ee-4964-ef43-21a7ea851d42"
      },
      "execution_count": 9,
      "outputs": [
        {
          "output_type": "stream",
          "name": "stdout",
          "text": [
            "[[1 0 0 ... 0 0 0]\n",
            " [1 0 0 ... 0 0 0]\n",
            " [0 1 0 ... 0 0 0]\n",
            " ...\n",
            " [0 0 1 ... 0 0 0]\n",
            " [0 1 0 ... 0 0 0]\n",
            " [0 1 0 ... 0 0 0]]\n",
            "[0 0 0 ... 0 0 0]\n"
          ]
        }
      ]
    },
    {
      "cell_type": "code",
      "source": [
        "c = 0\n",
        "for i in range(len(y)) :\n",
        "  if(y[i]==0) :\n",
        "    c = c+1\n",
        "print(len(y))\n",
        "print(c)"
      ],
      "metadata": {
        "colab": {
          "base_uri": "https://localhost:8080/"
        },
        "id": "W-1viO2d-oeJ",
        "outputId": "7a7c63b7-713e-4889-ab42-d844f35c5b5e"
      },
      "execution_count": 10,
      "outputs": [
        {
          "output_type": "stream",
          "name": "stdout",
          "text": [
            "8821\n",
            "7470\n"
          ]
        }
      ]
    },
    {
      "cell_type": "markdown",
      "source": [
        "conclusion - imbalanced data, Resampling has to be done"
      ],
      "metadata": {
        "id": "wmykTW45IMlh"
      }
    },
    {
      "cell_type": "markdown",
      "source": [
        "Over-sampling"
      ],
      "metadata": {
        "id": "HEbPzJpRITQL"
      }
    },
    {
      "cell_type": "code",
      "source": [
        "X = pd.DataFrame(X)\n",
        "y = pd.DataFrame(y)"
      ],
      "metadata": {
        "id": "3xSz9CSDId8d"
      },
      "execution_count": 11,
      "outputs": []
    },
    {
      "cell_type": "code",
      "source": [
        "#X = df.drop('Severity',axis=1)\n",
        "#y = df['Severity']\n",
        "\n",
        "from sklearn.model_selection import train_test_split\n",
        "from sklearn.utils import resample\n",
        "\n",
        "#split data into test and training sets\n",
        "X_train, X_test, y_train, y_test = train_test_split( X, y, test_size=0.33, random_state=42)\n",
        "\n",
        "#combine them back for resampling\n",
        "train_data = pd.concat([X_train, y_train], axis=1)\n",
        "\n",
        "# separate minority and majority classes\n",
        "#negative = train_data[train_data.Severity==0]\n",
        "#positive = train_data[train_data.Severity==1]\n",
        "negative = train_data[train_data.iloc[ : , -1].values==0]\n",
        "positive = train_data[train_data.iloc[ : , -1].values==1]\n",
        "\n",
        "# upsample minority\n",
        "pos_upsampled = resample(positive,\n",
        " replace=True, # sample with replacement\n",
        " n_samples=len(negative), # match number in majority class\n",
        " random_state=27) # reproducible results\n",
        "\n",
        "# combine majority and upsampled minority\n",
        "upsampled = pd.concat([negative, pos_upsampled])\n",
        "\n",
        "# check new class counts\n",
        "#upsampled.Severity.value_counts()"
      ],
      "metadata": {
        "id": "s3cbzwGPIUsc"
      },
      "execution_count": 12,
      "outputs": []
    },
    {
      "cell_type": "code",
      "source": [
        "display(upsampled)"
      ],
      "metadata": {
        "colab": {
          "base_uri": "https://localhost:8080/",
          "height": 423
        },
        "id": "uq4rPJcuIw8A",
        "outputId": "8e3d5e09-f279-4a55-d0c9-e3cb25967555"
      },
      "execution_count": 13,
      "outputs": [
        {
          "output_type": "display_data",
          "data": {
            "text/plain": [
              "      0   1   2   3   4   5   6   7   8   9   ...  77  78  79  80  81  82  83  \\\n",
              "2537   0   0   1   0   0   0   0   0   0   0  ...   0   0   0   0   0   0   0   \n",
              "3019   0   0   1   0   0   0   0   0   0   0  ...   0   0   0   0   0   0   0   \n",
              "6518   0   0   0   0   1   0   0   0   0   0  ...   0   0   0   0   0   0   0   \n",
              "2540   0   0   1   0   0   0   0   0   0   0  ...   0   0   0   0   0   0   0   \n",
              "3593   0   0   1   0   0   0   0   0   0   0  ...   0   0   0   0   0   0   0   \n",
              "...   ..  ..  ..  ..  ..  ..  ..  ..  ..  ..  ...  ..  ..  ..  ..  ..  ..  ..   \n",
              "7895   0   0   0   1   0   0   0   0   0   0  ...   0   0   0   0   0   0   0   \n",
              "1621   0   0   0   0   0   0   1   0   0   0  ...   0   0   0   0   0   0   0   \n",
              "5841   1   0   0   0   0   0   0   0   0   0  ...   0   0   0   0   0   0   0   \n",
              "4699   0   0   1   0   0   0   0   0   0   0  ...   0   0   0   0   0   0   0   \n",
              "1092   0   0   1   0   0   0   0   0   0   0  ...   0   0   0   0   0   0   0   \n",
              "\n",
              "      84  85  0   \n",
              "2537   0   0   0  \n",
              "3019   0   0   0  \n",
              "6518   0   0   0  \n",
              "2540   0   0   0  \n",
              "3593   0   0   0  \n",
              "...   ..  ..  ..  \n",
              "7895   0   0   1  \n",
              "1621   0   0   1  \n",
              "5841   0   0   1  \n",
              "4699   0   0   1  \n",
              "1092   0   0   1  \n",
              "\n",
              "[10000 rows x 87 columns]"
            ],
            "text/html": [
              "\n",
              "  <div id=\"df-e9c34a6a-ab54-4f4a-8e3f-c6a52c9cc985\">\n",
              "    <div class=\"colab-df-container\">\n",
              "      <div>\n",
              "<style scoped>\n",
              "    .dataframe tbody tr th:only-of-type {\n",
              "        vertical-align: middle;\n",
              "    }\n",
              "\n",
              "    .dataframe tbody tr th {\n",
              "        vertical-align: top;\n",
              "    }\n",
              "\n",
              "    .dataframe thead th {\n",
              "        text-align: right;\n",
              "    }\n",
              "</style>\n",
              "<table border=\"1\" class=\"dataframe\">\n",
              "  <thead>\n",
              "    <tr style=\"text-align: right;\">\n",
              "      <th></th>\n",
              "      <th>0</th>\n",
              "      <th>1</th>\n",
              "      <th>2</th>\n",
              "      <th>3</th>\n",
              "      <th>4</th>\n",
              "      <th>5</th>\n",
              "      <th>6</th>\n",
              "      <th>7</th>\n",
              "      <th>8</th>\n",
              "      <th>9</th>\n",
              "      <th>...</th>\n",
              "      <th>77</th>\n",
              "      <th>78</th>\n",
              "      <th>79</th>\n",
              "      <th>80</th>\n",
              "      <th>81</th>\n",
              "      <th>82</th>\n",
              "      <th>83</th>\n",
              "      <th>84</th>\n",
              "      <th>85</th>\n",
              "      <th>0</th>\n",
              "    </tr>\n",
              "  </thead>\n",
              "  <tbody>\n",
              "    <tr>\n",
              "      <th>2537</th>\n",
              "      <td>0</td>\n",
              "      <td>0</td>\n",
              "      <td>1</td>\n",
              "      <td>0</td>\n",
              "      <td>0</td>\n",
              "      <td>0</td>\n",
              "      <td>0</td>\n",
              "      <td>0</td>\n",
              "      <td>0</td>\n",
              "      <td>0</td>\n",
              "      <td>...</td>\n",
              "      <td>0</td>\n",
              "      <td>0</td>\n",
              "      <td>0</td>\n",
              "      <td>0</td>\n",
              "      <td>0</td>\n",
              "      <td>0</td>\n",
              "      <td>0</td>\n",
              "      <td>0</td>\n",
              "      <td>0</td>\n",
              "      <td>0</td>\n",
              "    </tr>\n",
              "    <tr>\n",
              "      <th>3019</th>\n",
              "      <td>0</td>\n",
              "      <td>0</td>\n",
              "      <td>1</td>\n",
              "      <td>0</td>\n",
              "      <td>0</td>\n",
              "      <td>0</td>\n",
              "      <td>0</td>\n",
              "      <td>0</td>\n",
              "      <td>0</td>\n",
              "      <td>0</td>\n",
              "      <td>...</td>\n",
              "      <td>0</td>\n",
              "      <td>0</td>\n",
              "      <td>0</td>\n",
              "      <td>0</td>\n",
              "      <td>0</td>\n",
              "      <td>0</td>\n",
              "      <td>0</td>\n",
              "      <td>0</td>\n",
              "      <td>0</td>\n",
              "      <td>0</td>\n",
              "    </tr>\n",
              "    <tr>\n",
              "      <th>6518</th>\n",
              "      <td>0</td>\n",
              "      <td>0</td>\n",
              "      <td>0</td>\n",
              "      <td>0</td>\n",
              "      <td>1</td>\n",
              "      <td>0</td>\n",
              "      <td>0</td>\n",
              "      <td>0</td>\n",
              "      <td>0</td>\n",
              "      <td>0</td>\n",
              "      <td>...</td>\n",
              "      <td>0</td>\n",
              "      <td>0</td>\n",
              "      <td>0</td>\n",
              "      <td>0</td>\n",
              "      <td>0</td>\n",
              "      <td>0</td>\n",
              "      <td>0</td>\n",
              "      <td>0</td>\n",
              "      <td>0</td>\n",
              "      <td>0</td>\n",
              "    </tr>\n",
              "    <tr>\n",
              "      <th>2540</th>\n",
              "      <td>0</td>\n",
              "      <td>0</td>\n",
              "      <td>1</td>\n",
              "      <td>0</td>\n",
              "      <td>0</td>\n",
              "      <td>0</td>\n",
              "      <td>0</td>\n",
              "      <td>0</td>\n",
              "      <td>0</td>\n",
              "      <td>0</td>\n",
              "      <td>...</td>\n",
              "      <td>0</td>\n",
              "      <td>0</td>\n",
              "      <td>0</td>\n",
              "      <td>0</td>\n",
              "      <td>0</td>\n",
              "      <td>0</td>\n",
              "      <td>0</td>\n",
              "      <td>0</td>\n",
              "      <td>0</td>\n",
              "      <td>0</td>\n",
              "    </tr>\n",
              "    <tr>\n",
              "      <th>3593</th>\n",
              "      <td>0</td>\n",
              "      <td>0</td>\n",
              "      <td>1</td>\n",
              "      <td>0</td>\n",
              "      <td>0</td>\n",
              "      <td>0</td>\n",
              "      <td>0</td>\n",
              "      <td>0</td>\n",
              "      <td>0</td>\n",
              "      <td>0</td>\n",
              "      <td>...</td>\n",
              "      <td>0</td>\n",
              "      <td>0</td>\n",
              "      <td>0</td>\n",
              "      <td>0</td>\n",
              "      <td>0</td>\n",
              "      <td>0</td>\n",
              "      <td>0</td>\n",
              "      <td>0</td>\n",
              "      <td>0</td>\n",
              "      <td>0</td>\n",
              "    </tr>\n",
              "    <tr>\n",
              "      <th>...</th>\n",
              "      <td>...</td>\n",
              "      <td>...</td>\n",
              "      <td>...</td>\n",
              "      <td>...</td>\n",
              "      <td>...</td>\n",
              "      <td>...</td>\n",
              "      <td>...</td>\n",
              "      <td>...</td>\n",
              "      <td>...</td>\n",
              "      <td>...</td>\n",
              "      <td>...</td>\n",
              "      <td>...</td>\n",
              "      <td>...</td>\n",
              "      <td>...</td>\n",
              "      <td>...</td>\n",
              "      <td>...</td>\n",
              "      <td>...</td>\n",
              "      <td>...</td>\n",
              "      <td>...</td>\n",
              "      <td>...</td>\n",
              "      <td>...</td>\n",
              "    </tr>\n",
              "    <tr>\n",
              "      <th>7895</th>\n",
              "      <td>0</td>\n",
              "      <td>0</td>\n",
              "      <td>0</td>\n",
              "      <td>1</td>\n",
              "      <td>0</td>\n",
              "      <td>0</td>\n",
              "      <td>0</td>\n",
              "      <td>0</td>\n",
              "      <td>0</td>\n",
              "      <td>0</td>\n",
              "      <td>...</td>\n",
              "      <td>0</td>\n",
              "      <td>0</td>\n",
              "      <td>0</td>\n",
              "      <td>0</td>\n",
              "      <td>0</td>\n",
              "      <td>0</td>\n",
              "      <td>0</td>\n",
              "      <td>0</td>\n",
              "      <td>0</td>\n",
              "      <td>1</td>\n",
              "    </tr>\n",
              "    <tr>\n",
              "      <th>1621</th>\n",
              "      <td>0</td>\n",
              "      <td>0</td>\n",
              "      <td>0</td>\n",
              "      <td>0</td>\n",
              "      <td>0</td>\n",
              "      <td>0</td>\n",
              "      <td>1</td>\n",
              "      <td>0</td>\n",
              "      <td>0</td>\n",
              "      <td>0</td>\n",
              "      <td>...</td>\n",
              "      <td>0</td>\n",
              "      <td>0</td>\n",
              "      <td>0</td>\n",
              "      <td>0</td>\n",
              "      <td>0</td>\n",
              "      <td>0</td>\n",
              "      <td>0</td>\n",
              "      <td>0</td>\n",
              "      <td>0</td>\n",
              "      <td>1</td>\n",
              "    </tr>\n",
              "    <tr>\n",
              "      <th>5841</th>\n",
              "      <td>1</td>\n",
              "      <td>0</td>\n",
              "      <td>0</td>\n",
              "      <td>0</td>\n",
              "      <td>0</td>\n",
              "      <td>0</td>\n",
              "      <td>0</td>\n",
              "      <td>0</td>\n",
              "      <td>0</td>\n",
              "      <td>0</td>\n",
              "      <td>...</td>\n",
              "      <td>0</td>\n",
              "      <td>0</td>\n",
              "      <td>0</td>\n",
              "      <td>0</td>\n",
              "      <td>0</td>\n",
              "      <td>0</td>\n",
              "      <td>0</td>\n",
              "      <td>0</td>\n",
              "      <td>0</td>\n",
              "      <td>1</td>\n",
              "    </tr>\n",
              "    <tr>\n",
              "      <th>4699</th>\n",
              "      <td>0</td>\n",
              "      <td>0</td>\n",
              "      <td>1</td>\n",
              "      <td>0</td>\n",
              "      <td>0</td>\n",
              "      <td>0</td>\n",
              "      <td>0</td>\n",
              "      <td>0</td>\n",
              "      <td>0</td>\n",
              "      <td>0</td>\n",
              "      <td>...</td>\n",
              "      <td>0</td>\n",
              "      <td>0</td>\n",
              "      <td>0</td>\n",
              "      <td>0</td>\n",
              "      <td>0</td>\n",
              "      <td>0</td>\n",
              "      <td>0</td>\n",
              "      <td>0</td>\n",
              "      <td>0</td>\n",
              "      <td>1</td>\n",
              "    </tr>\n",
              "    <tr>\n",
              "      <th>1092</th>\n",
              "      <td>0</td>\n",
              "      <td>0</td>\n",
              "      <td>1</td>\n",
              "      <td>0</td>\n",
              "      <td>0</td>\n",
              "      <td>0</td>\n",
              "      <td>0</td>\n",
              "      <td>0</td>\n",
              "      <td>0</td>\n",
              "      <td>0</td>\n",
              "      <td>...</td>\n",
              "      <td>0</td>\n",
              "      <td>0</td>\n",
              "      <td>0</td>\n",
              "      <td>0</td>\n",
              "      <td>0</td>\n",
              "      <td>0</td>\n",
              "      <td>0</td>\n",
              "      <td>0</td>\n",
              "      <td>0</td>\n",
              "      <td>1</td>\n",
              "    </tr>\n",
              "  </tbody>\n",
              "</table>\n",
              "<p>10000 rows × 87 columns</p>\n",
              "</div>\n",
              "      <button class=\"colab-df-convert\" onclick=\"convertToInteractive('df-e9c34a6a-ab54-4f4a-8e3f-c6a52c9cc985')\"\n",
              "              title=\"Convert this dataframe to an interactive table.\"\n",
              "              style=\"display:none;\">\n",
              "        \n",
              "  <svg xmlns=\"http://www.w3.org/2000/svg\" height=\"24px\"viewBox=\"0 0 24 24\"\n",
              "       width=\"24px\">\n",
              "    <path d=\"M0 0h24v24H0V0z\" fill=\"none\"/>\n",
              "    <path d=\"M18.56 5.44l.94 2.06.94-2.06 2.06-.94-2.06-.94-.94-2.06-.94 2.06-2.06.94zm-11 1L8.5 8.5l.94-2.06 2.06-.94-2.06-.94L8.5 2.5l-.94 2.06-2.06.94zm10 10l.94 2.06.94-2.06 2.06-.94-2.06-.94-.94-2.06-.94 2.06-2.06.94z\"/><path d=\"M17.41 7.96l-1.37-1.37c-.4-.4-.92-.59-1.43-.59-.52 0-1.04.2-1.43.59L10.3 9.45l-7.72 7.72c-.78.78-.78 2.05 0 2.83L4 21.41c.39.39.9.59 1.41.59.51 0 1.02-.2 1.41-.59l7.78-7.78 2.81-2.81c.8-.78.8-2.07 0-2.86zM5.41 20L4 18.59l7.72-7.72 1.47 1.35L5.41 20z\"/>\n",
              "  </svg>\n",
              "      </button>\n",
              "      \n",
              "  <style>\n",
              "    .colab-df-container {\n",
              "      display:flex;\n",
              "      flex-wrap:wrap;\n",
              "      gap: 12px;\n",
              "    }\n",
              "\n",
              "    .colab-df-convert {\n",
              "      background-color: #E8F0FE;\n",
              "      border: none;\n",
              "      border-radius: 50%;\n",
              "      cursor: pointer;\n",
              "      display: none;\n",
              "      fill: #1967D2;\n",
              "      height: 32px;\n",
              "      padding: 0 0 0 0;\n",
              "      width: 32px;\n",
              "    }\n",
              "\n",
              "    .colab-df-convert:hover {\n",
              "      background-color: #E2EBFA;\n",
              "      box-shadow: 0px 1px 2px rgba(60, 64, 67, 0.3), 0px 1px 3px 1px rgba(60, 64, 67, 0.15);\n",
              "      fill: #174EA6;\n",
              "    }\n",
              "\n",
              "    [theme=dark] .colab-df-convert {\n",
              "      background-color: #3B4455;\n",
              "      fill: #D2E3FC;\n",
              "    }\n",
              "\n",
              "    [theme=dark] .colab-df-convert:hover {\n",
              "      background-color: #434B5C;\n",
              "      box-shadow: 0px 1px 3px 1px rgba(0, 0, 0, 0.15);\n",
              "      filter: drop-shadow(0px 1px 2px rgba(0, 0, 0, 0.3));\n",
              "      fill: #FFFFFF;\n",
              "    }\n",
              "  </style>\n",
              "\n",
              "      <script>\n",
              "        const buttonEl =\n",
              "          document.querySelector('#df-e9c34a6a-ab54-4f4a-8e3f-c6a52c9cc985 button.colab-df-convert');\n",
              "        buttonEl.style.display =\n",
              "          google.colab.kernel.accessAllowed ? 'block' : 'none';\n",
              "\n",
              "        async function convertToInteractive(key) {\n",
              "          const element = document.querySelector('#df-e9c34a6a-ab54-4f4a-8e3f-c6a52c9cc985');\n",
              "          const dataTable =\n",
              "            await google.colab.kernel.invokeFunction('convertToInteractive',\n",
              "                                                     [key], {});\n",
              "          if (!dataTable) return;\n",
              "\n",
              "          const docLinkHtml = 'Like what you see? Visit the ' +\n",
              "            '<a target=\"_blank\" href=https://colab.research.google.com/notebooks/data_table.ipynb>data table notebook</a>'\n",
              "            + ' to learn more about interactive tables.';\n",
              "          element.innerHTML = '';\n",
              "          dataTable['output_type'] = 'display_data';\n",
              "          await google.colab.output.renderOutput(dataTable, element);\n",
              "          const docLink = document.createElement('div');\n",
              "          docLink.innerHTML = docLinkHtml;\n",
              "          element.appendChild(docLink);\n",
              "        }\n",
              "      </script>\n",
              "    </div>\n",
              "  </div>\n",
              "  "
            ]
          },
          "metadata": {}
        }
      ]
    },
    {
      "cell_type": "code",
      "source": [
        "X_train = upsampled.iloc[ : , :-1].values\n",
        "y_train = upsampled.iloc[ : , -1].values"
      ],
      "metadata": {
        "id": "sIlILiGFX8ID"
      },
      "execution_count": 14,
      "outputs": []
    },
    {
      "cell_type": "code",
      "execution_count": 15,
      "metadata": {
        "id": "dBlzii4iadlo"
      },
      "outputs": [],
      "source": [
        "X_train = np.asarray(X_train).astype(np.float32)\n",
        "y_train = np.asarray(y_train).astype(np.float32)\n",
        "X_test = np.asarray(X_test).astype(np.float32)\n",
        "y_test = np.asarray(y_test).astype(np.float32)"
      ]
    },
    {
      "cell_type": "markdown",
      "metadata": {
        "id": "04xMp_qa5E18"
      },
      "source": [
        "importing ML libraries"
      ]
    },
    {
      "cell_type": "code",
      "execution_count": 16,
      "metadata": {
        "id": "UQMtWsLJ5FEV"
      },
      "outputs": [],
      "source": [
        "from sklearn.linear_model import SGDClassifier\n",
        "from sklearn.neighbors import KNeighborsClassifier\n",
        "from sklearn.linear_model import LinearRegression\n",
        "from sklearn.linear_model import LogisticRegression\n",
        "from sklearn.tree import DecisionTreeClassifier\n",
        "from sklearn.cluster import KMeans\n",
        "from sklearn.ensemble import RandomForestClassifier\n",
        "from sklearn.svm import SVC\n",
        "from sklearn.naive_bayes import GaussianNB\n",
        "from xgboost import XGBClassifier\n",
        "from sklearn.ensemble import GradientBoostingClassifier\n",
        "from sklearn.metrics import accuracy_score\n",
        "from sklearn.preprocessing import StandardScaler\n",
        "from sklearn.preprocessing import OneHotEncoder\n",
        "from sklearn.model_selection import train_test_split\n",
        "import seaborn as sns\n",
        "smx=SGDClassifier()\n",
        "lr=LogisticRegression(random_state = 0, max_iter = 300)\n",
        "knn = KNeighborsClassifier(n_neighbors=5, metric='euclidean')\n",
        "dt= DecisionTreeClassifier(criterion = \"gini\", random_state = 100,\n",
        "                               max_depth=2, min_samples_leaf=5)\n",
        "km=KMeans(n_clusters=2)\n",
        "rf = RandomForestClassifier(n_estimators=100, criterion = 'entropy', random_state = 0)\n",
        "sv=SVC(kernel='poly')\n",
        "xgb=XGBClassifier()\n",
        "gb=GradientBoostingClassifier()\n",
        "nb=GaussianNB()"
      ]
    },
    {
      "cell_type": "markdown",
      "source": [
        "importing metric libraries"
      ],
      "metadata": {
        "id": "SfiBXxXtaIA7"
      }
    },
    {
      "cell_type": "code",
      "source": [
        "!pip install scikit-plot\n",
        "from sklearn.metrics import confusion_matrix\n",
        "from sklearn.metrics import precision_score\n",
        "from sklearn.metrics import recall_score\n",
        "from sklearn.metrics import accuracy_score\n",
        "from sklearn.metrics import fbeta_score\n",
        "from sklearn.metrics import f1_score\n",
        "from sklearn.metrics import cohen_kappa_score\n",
        "from sklearn.metrics import matthews_corrcoef\n",
        "from scikitplot.metrics import plot_roc\n",
        "from sklearn.metrics import roc_auc_score\n",
        "from sklearn.metrics import log_loss\n",
        "from sklearn.metrics import average_precision_score\n",
        "from sklearn.metrics import brier_score_loss\n",
        "from scikitplot.helpers import binary_ks_curve"
      ],
      "metadata": {
        "colab": {
          "base_uri": "https://localhost:8080/"
        },
        "id": "GeqZXBk2aJ_L",
        "outputId": "c0e86ea1-34dc-4226-8b18-486443952b32"
      },
      "execution_count": 17,
      "outputs": [
        {
          "output_type": "stream",
          "name": "stdout",
          "text": [
            "Looking in indexes: https://pypi.org/simple, https://us-python.pkg.dev/colab-wheels/public/simple/\n",
            "Collecting scikit-plot\n",
            "  Downloading scikit_plot-0.3.7-py3-none-any.whl (33 kB)\n",
            "Requirement already satisfied: joblib>=0.10 in /usr/local/lib/python3.7/dist-packages (from scikit-plot) (1.2.0)\n",
            "Requirement already satisfied: scipy>=0.9 in /usr/local/lib/python3.7/dist-packages (from scikit-plot) (1.7.3)\n",
            "Requirement already satisfied: scikit-learn>=0.18 in /usr/local/lib/python3.7/dist-packages (from scikit-plot) (1.0.2)\n",
            "Requirement already satisfied: matplotlib>=1.4.0 in /usr/local/lib/python3.7/dist-packages (from scikit-plot) (3.2.2)\n",
            "Requirement already satisfied: cycler>=0.10 in /usr/local/lib/python3.7/dist-packages (from matplotlib>=1.4.0->scikit-plot) (0.11.0)\n",
            "Requirement already satisfied: python-dateutil>=2.1 in /usr/local/lib/python3.7/dist-packages (from matplotlib>=1.4.0->scikit-plot) (2.8.2)\n",
            "Requirement already satisfied: numpy>=1.11 in /usr/local/lib/python3.7/dist-packages (from matplotlib>=1.4.0->scikit-plot) (1.21.6)\n",
            "Requirement already satisfied: pyparsing!=2.0.4,!=2.1.2,!=2.1.6,>=2.0.1 in /usr/local/lib/python3.7/dist-packages (from matplotlib>=1.4.0->scikit-plot) (3.0.9)\n",
            "Requirement already satisfied: kiwisolver>=1.0.1 in /usr/local/lib/python3.7/dist-packages (from matplotlib>=1.4.0->scikit-plot) (1.4.4)\n",
            "Requirement already satisfied: typing-extensions in /usr/local/lib/python3.7/dist-packages (from kiwisolver>=1.0.1->matplotlib>=1.4.0->scikit-plot) (4.1.1)\n",
            "Requirement already satisfied: six>=1.5 in /usr/local/lib/python3.7/dist-packages (from python-dateutil>=2.1->matplotlib>=1.4.0->scikit-plot) (1.15.0)\n",
            "Requirement already satisfied: threadpoolctl>=2.0.0 in /usr/local/lib/python3.7/dist-packages (from scikit-learn>=0.18->scikit-plot) (3.1.0)\n",
            "Installing collected packages: scikit-plot\n",
            "Successfully installed scikit-plot-0.3.7\n"
          ]
        }
      ]
    },
    {
      "cell_type": "markdown",
      "source": [
        "matrix for MABAC"
      ],
      "metadata": {
        "id": "vNcVQD9xRX7U"
      }
    },
    {
      "cell_type": "code",
      "source": [
        "mac = []"
      ],
      "metadata": {
        "id": "W2aM8xJgRXBD"
      },
      "execution_count": 18,
      "outputs": []
    },
    {
      "cell_type": "markdown",
      "source": [
        "1. logistic regression"
      ],
      "metadata": {
        "id": "nWO8jsG-WdgO"
      }
    },
    {
      "cell_type": "code",
      "source": [
        "start = time.time()\n",
        "lr.fit(np.array(X_train),np.array(y_train))\n",
        "end = time.time()\n",
        "tm = end - start\n",
        "mac.append([])"
      ],
      "metadata": {
        "id": "2FxVQDvbWhZS"
      },
      "execution_count": 19,
      "outputs": []
    },
    {
      "cell_type": "markdown",
      "source": [
        "2. gradient boost"
      ],
      "metadata": {
        "id": "E4ymKmjxXkdx"
      }
    },
    {
      "cell_type": "code",
      "source": [
        "start = time.time()\n",
        "gb.fit(np.array(X_train),np.array(y_train))\n",
        "end = time.time()\n",
        "tm = end - start\n",
        "mac.append([])"
      ],
      "metadata": {
        "id": "RzNa0JO9XlMP"
      },
      "execution_count": 20,
      "outputs": []
    },
    {
      "cell_type": "markdown",
      "source": [
        "3. xg boost"
      ],
      "metadata": {
        "id": "4g1hYP4UWkBQ"
      }
    },
    {
      "cell_type": "code",
      "source": [
        "start = time.time()\n",
        "xgb.fit(np.array(X_train),np.array(y_train))\n",
        "end = time.time()\n",
        "tm = end - start\n",
        "mac.append([])"
      ],
      "metadata": {
        "id": "V8cCPXtHWmeI"
      },
      "execution_count": 21,
      "outputs": []
    },
    {
      "cell_type": "markdown",
      "source": [
        "4. SVM"
      ],
      "metadata": {
        "id": "NZdhFFJwdUry"
      }
    },
    {
      "cell_type": "code",
      "source": [
        "start = time.time()\n",
        "sv.fit(np.array(X_train),np.array(y_train))\n",
        "end = time.time()\n",
        "tm = end - start\n",
        "mac.append([])"
      ],
      "metadata": {
        "id": "8moUSmVQeExl"
      },
      "execution_count": 22,
      "outputs": []
    },
    {
      "cell_type": "markdown",
      "source": [
        "5. Naive bayes"
      ],
      "metadata": {
        "id": "bSMZJ6oudXUU"
      }
    },
    {
      "cell_type": "code",
      "source": [
        "start = time.time()\n",
        "nb.fit(np.array(X_train),np.array(y_train))\n",
        "end = time.time()\n",
        "tm = end - start\n",
        "mac.append([])"
      ],
      "metadata": {
        "id": "eQ449BtZeIP_"
      },
      "execution_count": 23,
      "outputs": []
    },
    {
      "cell_type": "markdown",
      "source": [
        "6. Decision tree"
      ],
      "metadata": {
        "id": "SHHuA5UEQ3_n"
      }
    },
    {
      "cell_type": "code",
      "source": [
        "start = time.time()\n",
        "dt.fit(np.array(X_train),np.array(y_train))\n",
        "end = time.time()\n",
        "tm = end - start\n",
        "mac.append([])"
      ],
      "metadata": {
        "id": "vQytLdbxQ2aW"
      },
      "execution_count": 24,
      "outputs": []
    },
    {
      "cell_type": "markdown",
      "source": [
        "7. random forest"
      ],
      "metadata": {
        "id": "1aUeeccWWnxQ"
      }
    },
    {
      "cell_type": "code",
      "source": [
        "start = time.time()\n",
        "rf.fit(np.array(X_train),np.array(y_train))\n",
        "end = time.time()\n",
        "tm = end - start\n",
        "mac.append([])"
      ],
      "metadata": {
        "id": "Ecp-kUGQXsDM"
      },
      "execution_count": 25,
      "outputs": []
    },
    {
      "cell_type": "markdown",
      "source": [
        "8. K nearest neighbours"
      ],
      "metadata": {
        "id": "dGgKE91TYcn9"
      }
    },
    {
      "cell_type": "code",
      "source": [
        "start = time.time()\n",
        "knn.fit(np.array(X_train),np.array(y_train))\n",
        "end = time.time()\n",
        "tm = end - start\n",
        "mac.append([])"
      ],
      "metadata": {
        "id": "EkEk-DZiYgNT"
      },
      "execution_count": 26,
      "outputs": []
    },
    {
      "cell_type": "code",
      "source": [
        "models = [lr, gb, xgb, sv, nb, dt, rf, knn]"
      ],
      "metadata": {
        "id": "BcXQWUrYkxgA"
      },
      "execution_count": 27,
      "outputs": []
    },
    {
      "cell_type": "code",
      "source": [
        "for i in range(8) :\n",
        "  model = models[i]\n",
        "  y_pred=model.predict(np.array(X_test))\n",
        "  y_test = y_test.ravel()\n",
        "\n",
        "  tn, fp, fn, tp = confusion_matrix(y_test, y_pred).ravel()\n",
        "\n",
        "  false_positive_rate = fp / (fp + tn)\n",
        "  mac[i].append(false_positive_rate)\n",
        "\n",
        "  false_negative_rate = fn / (tp + fn)\n",
        "  mac[i].append(false_negative_rate)\n",
        "\n",
        "  false_discovery_rate = fp/ (tp + fp)\n",
        "  mac[i].append(false_discovery_rate)\n",
        "\n",
        "  accuracy = accuracy_score(y_test,y_pred)\n",
        "  mac[i].append(accuracy)\n",
        "\n",
        "  # True Negative Rate | Specificity\n",
        "  true_negative_rate = tn / (tn + fp)\n",
        "  mac[i].append(true_negative_rate)\n",
        "\n",
        "  negative_predictive_value = tn/ (tn + fn)\n",
        "  mac[i].append(negative_predictive_value)\n",
        "\n",
        "  # True Positive Rate | Recall | Sensitivity\n",
        "  recall = recall_score(y_test, y_pred) # or optionally tp / (tp + fn)\n",
        "  mac[i].append(recall)\n",
        "\n",
        "  # Positive Predictive Value | Precision\n",
        "  precision = precision_score(y_test, y_pred) # or optionally tp/ (tp + fp)\n",
        "  mac[i].append(precision)\n",
        "\n",
        "  # F1 score (beta=1)\n",
        "  f1= f1_score(y_test, y_pred) \n",
        "  mac[i].append(f1)\n",
        "\n",
        "  # F2 score (beta=2)\n",
        "  f2 = fbeta_score(y_test, y_pred, beta = 2)\n",
        "  mac[i].append(f2)\n",
        "\n",
        "  # Cohen Kappa Metric\n",
        "  cohen_kappa = cohen_kappa_score(y_test, y_pred)\n",
        "  mac[i].append(cohen_kappa)\n",
        "\n",
        "  # Matthews Correlation Coefficient MCC\n",
        "  matthews_corr = matthews_corrcoef(y_test, y_pred)\n",
        "  mac[i].append(matthews_corr)\n",
        "\n",
        "  # ROC AUC score\n",
        "  roc_auc = roc_auc_score(y_test, y_pred)\n",
        "  mac[i].append(roc_auc)\n",
        "\n",
        "  # PR AUC score | Average precision\n",
        "  avg_precision = average_precision_score(y_test, y_pred)\n",
        "  mac[i].append(avg_precision) "
      ],
      "metadata": {
        "id": "t4DWRG2icHXk"
      },
      "execution_count": 28,
      "outputs": []
    },
    {
      "cell_type": "markdown",
      "source": [
        "encoding the dependent variable"
      ],
      "metadata": {
        "id": "-fBjSjvj47aG"
      }
    },
    {
      "cell_type": "code",
      "source": [
        "encoder = OneHotEncoder(sparse=False)\n",
        "y_tr = y_train.reshape(-1, 1)\n",
        "y_tr = encoder.fit_transform(y_tr)\n",
        "y_tes = y_test.reshape(-1, 1)\n",
        "y_tes = encoder.fit_transform(y_tes)"
      ],
      "metadata": {
        "id": "zdi-bZrb46ro"
      },
      "execution_count": 29,
      "outputs": []
    },
    {
      "cell_type": "code",
      "source": [
        "ep = 30\n",
        "bs = 32"
      ],
      "metadata": {
        "id": "CdEbceaLpyyc"
      },
      "execution_count": 30,
      "outputs": []
    },
    {
      "cell_type": "markdown",
      "metadata": {
        "id": "3xpigTJ1cBAK"
      },
      "source": [
        "9. feed forward neural network"
      ]
    },
    {
      "cell_type": "code",
      "source": [
        "import keras\n",
        "from keras.models import Sequential\n",
        "from keras.layers import Dense\n",
        "from keras.optimizers import Adam\n",
        "from sklearn.metrics import accuracy_score\n",
        "nn = Sequential()\n",
        "nn.add(Dense(85, input_dim=(86), activation='relu'))\n",
        "nn.add(Dense(54, activation='relu'))\n",
        "nn.add(Dense(24, activation='relu'))\n",
        "nn.add(Dense(13, activation='relu'))\n",
        "nn.add(Dense(2, activation='softmax'))\n",
        "nn.compile(loss='categorical_crossentropy', optimizer=Adam(learning_rate=0.0001), metrics=['accuracy'])\n",
        "nn.summary()"
      ],
      "metadata": {
        "colab": {
          "base_uri": "https://localhost:8080/"
        },
        "id": "7vFaz4QVc3v2",
        "outputId": "cae3b40c-3550-4667-f0a4-c3b98c967d83"
      },
      "execution_count": 31,
      "outputs": [
        {
          "output_type": "stream",
          "name": "stdout",
          "text": [
            "Model: \"sequential\"\n",
            "_________________________________________________________________\n",
            " Layer (type)                Output Shape              Param #   \n",
            "=================================================================\n",
            " dense (Dense)               (None, 85)                7395      \n",
            "                                                                 \n",
            " dense_1 (Dense)             (None, 54)                4644      \n",
            "                                                                 \n",
            " dense_2 (Dense)             (None, 24)                1320      \n",
            "                                                                 \n",
            " dense_3 (Dense)             (None, 13)                325       \n",
            "                                                                 \n",
            " dense_4 (Dense)             (None, 2)                 28        \n",
            "                                                                 \n",
            "=================================================================\n",
            "Total params: 13,712\n",
            "Trainable params: 13,712\n",
            "Non-trainable params: 0\n",
            "_________________________________________________________________\n"
          ]
        }
      ]
    },
    {
      "cell_type": "code",
      "source": [
        "start = time.time()\n",
        "nn.fit(X_train, y_tr, epochs=ep, batch_size=bs)\n",
        "end = time.time()\n",
        "tm = end - start\n",
        "mac.append([])"
      ],
      "metadata": {
        "colab": {
          "base_uri": "https://localhost:8080/"
        },
        "id": "pK7hh301bWb9",
        "outputId": "67e0e6d8-eee7-4b3b-f45a-bc86c72c7e4b"
      },
      "execution_count": 32,
      "outputs": [
        {
          "output_type": "stream",
          "name": "stdout",
          "text": [
            "Epoch 1/30\n",
            "313/313 [==============================] - 3s 6ms/step - loss: 0.6787 - accuracy: 0.6097\n",
            "Epoch 2/30\n",
            "313/313 [==============================] - 2s 6ms/step - loss: 0.6394 - accuracy: 0.6925\n",
            "Epoch 3/30\n",
            "313/313 [==============================] - 2s 5ms/step - loss: 0.6048 - accuracy: 0.7070\n",
            "Epoch 4/30\n",
            "313/313 [==============================] - 2s 5ms/step - loss: 0.5866 - accuracy: 0.7094\n",
            "Epoch 5/30\n",
            "313/313 [==============================] - 2s 6ms/step - loss: 0.5769 - accuracy: 0.7167\n",
            "Epoch 6/30\n",
            "313/313 [==============================] - 2s 6ms/step - loss: 0.5694 - accuracy: 0.7201\n",
            "Epoch 7/30\n",
            "313/313 [==============================] - 2s 5ms/step - loss: 0.5627 - accuracy: 0.7210\n",
            "Epoch 8/30\n",
            "313/313 [==============================] - 1s 5ms/step - loss: 0.5560 - accuracy: 0.7244\n",
            "Epoch 9/30\n",
            "313/313 [==============================] - 2s 7ms/step - loss: 0.5480 - accuracy: 0.7318\n",
            "Epoch 10/30\n",
            "313/313 [==============================] - 2s 6ms/step - loss: 0.5415 - accuracy: 0.7353\n",
            "Epoch 11/30\n",
            "313/313 [==============================] - 1s 5ms/step - loss: 0.5356 - accuracy: 0.7378\n",
            "Epoch 12/30\n",
            "313/313 [==============================] - 2s 7ms/step - loss: 0.5303 - accuracy: 0.7423\n",
            "Epoch 13/30\n",
            "313/313 [==============================] - 2s 5ms/step - loss: 0.5257 - accuracy: 0.7445\n",
            "Epoch 14/30\n",
            "313/313 [==============================] - 1s 4ms/step - loss: 0.5215 - accuracy: 0.7465\n",
            "Epoch 15/30\n",
            "313/313 [==============================] - 1s 2ms/step - loss: 0.5176 - accuracy: 0.7487\n",
            "Epoch 16/30\n",
            "313/313 [==============================] - 1s 2ms/step - loss: 0.5140 - accuracy: 0.7521\n",
            "Epoch 17/30\n",
            "313/313 [==============================] - 1s 3ms/step - loss: 0.5109 - accuracy: 0.7547\n",
            "Epoch 18/30\n",
            "313/313 [==============================] - 1s 3ms/step - loss: 0.5078 - accuracy: 0.7561\n",
            "Epoch 19/30\n",
            "313/313 [==============================] - 1s 2ms/step - loss: 0.5037 - accuracy: 0.7573\n",
            "Epoch 20/30\n",
            "313/313 [==============================] - 1s 2ms/step - loss: 0.5009 - accuracy: 0.7618\n",
            "Epoch 21/30\n",
            "313/313 [==============================] - 1s 2ms/step - loss: 0.4975 - accuracy: 0.7640\n",
            "Epoch 22/30\n",
            "313/313 [==============================] - 1s 2ms/step - loss: 0.4952 - accuracy: 0.7649\n",
            "Epoch 23/30\n",
            "313/313 [==============================] - 1s 2ms/step - loss: 0.4929 - accuracy: 0.7669\n",
            "Epoch 24/30\n",
            "313/313 [==============================] - 1s 2ms/step - loss: 0.4910 - accuracy: 0.7668\n",
            "Epoch 25/30\n",
            "313/313 [==============================] - 1s 2ms/step - loss: 0.4885 - accuracy: 0.7676\n",
            "Epoch 26/30\n",
            "313/313 [==============================] - 1s 2ms/step - loss: 0.4875 - accuracy: 0.7687\n",
            "Epoch 27/30\n",
            "313/313 [==============================] - 1s 2ms/step - loss: 0.4850 - accuracy: 0.7688\n",
            "Epoch 28/30\n",
            "313/313 [==============================] - 1s 2ms/step - loss: 0.4835 - accuracy: 0.7718\n",
            "Epoch 29/30\n",
            "313/313 [==============================] - 1s 2ms/step - loss: 0.4812 - accuracy: 0.7694\n",
            "Epoch 30/30\n",
            "313/313 [==============================] - 1s 2ms/step - loss: 0.4796 - accuracy: 0.7720\n"
          ]
        }
      ]
    },
    {
      "cell_type": "markdown",
      "source": [
        "10. simple recurrent neural network"
      ],
      "metadata": {
        "id": "e3YmEYU1hHO1"
      }
    },
    {
      "cell_type": "code",
      "source": [
        "import keras\n",
        "from keras.models import Sequential\n",
        "from keras.layers import SimpleRNN, Dense\n",
        "from keras.optimizers import Adam\n",
        "from sklearn.metrics import accuracy_score\n",
        "rnn = Sequential()\n",
        "rnn.add(SimpleRNN(54, input_shape=(86,1)))\n",
        "rnn.add(Dense(2, activation='softmax'))\n",
        "rnn.compile(loss='categorical_crossentropy', optimizer=Adam(learning_rate=0.0001), metrics=['accuracy'])\n",
        "rnn.summary()"
      ],
      "metadata": {
        "colab": {
          "base_uri": "https://localhost:8080/"
        },
        "id": "nVsH5hlGhQ6-",
        "outputId": "e9527e6c-d6a8-4a99-ff06-9be43ff88fae"
      },
      "execution_count": 33,
      "outputs": [
        {
          "output_type": "stream",
          "name": "stdout",
          "text": [
            "Model: \"sequential_1\"\n",
            "_________________________________________________________________\n",
            " Layer (type)                Output Shape              Param #   \n",
            "=================================================================\n",
            " simple_rnn (SimpleRNN)      (None, 54)                3024      \n",
            "                                                                 \n",
            " dense_5 (Dense)             (None, 2)                 110       \n",
            "                                                                 \n",
            "=================================================================\n",
            "Total params: 3,134\n",
            "Trainable params: 3,134\n",
            "Non-trainable params: 0\n",
            "_________________________________________________________________\n"
          ]
        }
      ]
    },
    {
      "cell_type": "code",
      "source": [
        "start = time.time()\n",
        "rnn.fit(X_train, y_tr, epochs=ep, batch_size=bs)\n",
        "end = time.time()\n",
        "tm = end - start\n",
        "mac.append([])"
      ],
      "metadata": {
        "colab": {
          "base_uri": "https://localhost:8080/"
        },
        "id": "pl2DwdY0hjpF",
        "outputId": "677319b4-17bb-42f6-e389-a26aaeea001c"
      },
      "execution_count": 34,
      "outputs": [
        {
          "output_type": "stream",
          "name": "stdout",
          "text": [
            "Epoch 1/30\n",
            "313/313 [==============================] - 6s 15ms/step - loss: 0.6534 - accuracy: 0.6290\n",
            "Epoch 2/30\n",
            "313/313 [==============================] - 5s 15ms/step - loss: 0.6311 - accuracy: 0.6715\n",
            "Epoch 3/30\n",
            "313/313 [==============================] - 5s 15ms/step - loss: 0.6206 - accuracy: 0.6790\n",
            "Epoch 4/30\n",
            "313/313 [==============================] - 5s 15ms/step - loss: 0.6119 - accuracy: 0.6846\n",
            "Epoch 5/30\n",
            "313/313 [==============================] - 5s 15ms/step - loss: 0.6037 - accuracy: 0.6913\n",
            "Epoch 6/30\n",
            "313/313 [==============================] - 5s 15ms/step - loss: 0.5961 - accuracy: 0.6973\n",
            "Epoch 7/30\n",
            "313/313 [==============================] - 5s 16ms/step - loss: 0.5907 - accuracy: 0.7020\n",
            "Epoch 8/30\n",
            "313/313 [==============================] - 5s 15ms/step - loss: 0.5875 - accuracy: 0.7050\n",
            "Epoch 9/30\n",
            "313/313 [==============================] - 5s 16ms/step - loss: 0.5835 - accuracy: 0.7075\n",
            "Epoch 10/30\n",
            "313/313 [==============================] - 5s 15ms/step - loss: 0.5781 - accuracy: 0.7067\n",
            "Epoch 11/30\n",
            "313/313 [==============================] - 5s 15ms/step - loss: 0.5747 - accuracy: 0.7132\n",
            "Epoch 12/30\n",
            "313/313 [==============================] - 5s 16ms/step - loss: 0.5715 - accuracy: 0.7141\n",
            "Epoch 13/30\n",
            "313/313 [==============================] - 9s 30ms/step - loss: 0.5681 - accuracy: 0.7183\n",
            "Epoch 14/30\n",
            "313/313 [==============================] - 9s 30ms/step - loss: 0.5663 - accuracy: 0.7161\n",
            "Epoch 15/30\n",
            "313/313 [==============================] - 7s 23ms/step - loss: 0.5646 - accuracy: 0.7156\n",
            "Epoch 16/30\n",
            "313/313 [==============================] - 5s 15ms/step - loss: 0.5596 - accuracy: 0.7285\n",
            "Epoch 17/30\n",
            "313/313 [==============================] - 5s 15ms/step - loss: 0.5587 - accuracy: 0.7258\n",
            "Epoch 18/30\n",
            "313/313 [==============================] - 5s 15ms/step - loss: 0.5587 - accuracy: 0.7260\n",
            "Epoch 19/30\n",
            "313/313 [==============================] - 5s 15ms/step - loss: 0.5574 - accuracy: 0.7261\n",
            "Epoch 20/30\n",
            "313/313 [==============================] - 5s 15ms/step - loss: 0.5541 - accuracy: 0.7272\n",
            "Epoch 21/30\n",
            "313/313 [==============================] - 5s 15ms/step - loss: 0.5508 - accuracy: 0.7286\n",
            "Epoch 22/30\n",
            "313/313 [==============================] - 5s 16ms/step - loss: 0.5515 - accuracy: 0.7329\n",
            "Epoch 23/30\n",
            "313/313 [==============================] - 5s 15ms/step - loss: 0.5493 - accuracy: 0.7317\n",
            "Epoch 24/30\n",
            "313/313 [==============================] - 5s 15ms/step - loss: 0.5480 - accuracy: 0.7332\n",
            "Epoch 25/30\n",
            "313/313 [==============================] - 5s 15ms/step - loss: 0.5460 - accuracy: 0.7334\n",
            "Epoch 26/30\n",
            "313/313 [==============================] - 5s 17ms/step - loss: 0.5454 - accuracy: 0.7346\n",
            "Epoch 27/30\n",
            "313/313 [==============================] - 6s 19ms/step - loss: 0.5438 - accuracy: 0.7325\n",
            "Epoch 28/30\n",
            "313/313 [==============================] - 6s 18ms/step - loss: 0.5435 - accuracy: 0.7337\n",
            "Epoch 29/30\n",
            "313/313 [==============================] - 5s 16ms/step - loss: 0.5415 - accuracy: 0.7343\n",
            "Epoch 30/30\n",
            "313/313 [==============================] - 5s 16ms/step - loss: 0.5404 - accuracy: 0.7395\n"
          ]
        }
      ]
    },
    {
      "cell_type": "markdown",
      "metadata": {
        "id": "2f67VzC5cMsz"
      },
      "source": [
        "11. recurrent neural network with long short term memory"
      ]
    },
    {
      "cell_type": "code",
      "source": [
        "import keras\n",
        "from keras.models import Sequential\n",
        "from keras.layers import LSTM, Dense, Embedding, Bidirectional\n",
        "from keras.optimizers import Adam\n",
        "from sklearn.metrics import accuracy_score\n",
        "rnl = Sequential()\n",
        "rnl.add(LSTM(54, input_shape=(86,1), recurrent_dropout = 0.2, dropout = 0.2))\n",
        "rnl.add(Dense(2, activation='softmax'))\n",
        "rnl.compile(loss='categorical_crossentropy', optimizer=Adam(learning_rate=0.0001), metrics=['accuracy'])\n",
        "rnl.summary()"
      ],
      "metadata": {
        "colab": {
          "base_uri": "https://localhost:8080/"
        },
        "id": "v4SDR-6sftN7",
        "outputId": "c3d14aea-cb98-4fd6-e729-61aaeec4b382"
      },
      "execution_count": 35,
      "outputs": [
        {
          "output_type": "stream",
          "name": "stdout",
          "text": [
            "Model: \"sequential_2\"\n",
            "_________________________________________________________________\n",
            " Layer (type)                Output Shape              Param #   \n",
            "=================================================================\n",
            " lstm (LSTM)                 (None, 54)                12096     \n",
            "                                                                 \n",
            " dense_6 (Dense)             (None, 2)                 110       \n",
            "                                                                 \n",
            "=================================================================\n",
            "Total params: 12,206\n",
            "Trainable params: 12,206\n",
            "Non-trainable params: 0\n",
            "_________________________________________________________________\n"
          ]
        }
      ]
    },
    {
      "cell_type": "code",
      "execution_count": 36,
      "metadata": {
        "colab": {
          "base_uri": "https://localhost:8080/"
        },
        "id": "53-i1WtqvVPf",
        "outputId": "c5f60bbd-9387-439a-b353-354182715e03"
      },
      "outputs": [
        {
          "output_type": "stream",
          "name": "stdout",
          "text": [
            "Epoch 1/30\n",
            "313/313 [==============================] - 31s 88ms/step - loss: 0.6932 - accuracy: 0.4979\n",
            "Epoch 2/30\n",
            "313/313 [==============================] - 27s 85ms/step - loss: 0.6931 - accuracy: 0.5028\n",
            "Epoch 3/30\n",
            "313/313 [==============================] - 27s 85ms/step - loss: 0.6897 - accuracy: 0.5366\n",
            "Epoch 4/30\n",
            "313/313 [==============================] - 27s 85ms/step - loss: 0.6863 - accuracy: 0.5456\n",
            "Epoch 5/30\n",
            "313/313 [==============================] - 27s 85ms/step - loss: 0.6843 - accuracy: 0.5519\n",
            "Epoch 6/30\n",
            "313/313 [==============================] - 28s 89ms/step - loss: 0.6833 - accuracy: 0.5604\n",
            "Epoch 7/30\n",
            "313/313 [==============================] - 26s 85ms/step - loss: 0.6824 - accuracy: 0.5599\n",
            "Epoch 8/30\n",
            "313/313 [==============================] - 27s 85ms/step - loss: 0.6826 - accuracy: 0.5612\n",
            "Epoch 9/30\n",
            "313/313 [==============================] - 27s 85ms/step - loss: 0.6807 - accuracy: 0.5692\n",
            "Epoch 10/30\n",
            "313/313 [==============================] - 27s 86ms/step - loss: 0.6827 - accuracy: 0.5628\n",
            "Epoch 11/30\n",
            "313/313 [==============================] - 27s 85ms/step - loss: 0.6799 - accuracy: 0.5617\n",
            "Epoch 12/30\n",
            "313/313 [==============================] - 26s 84ms/step - loss: 0.6806 - accuracy: 0.5641\n",
            "Epoch 13/30\n",
            "313/313 [==============================] - 27s 85ms/step - loss: 0.6781 - accuracy: 0.5640\n",
            "Epoch 14/30\n",
            "313/313 [==============================] - 28s 89ms/step - loss: 0.6803 - accuracy: 0.5621\n",
            "Epoch 15/30\n",
            "313/313 [==============================] - 27s 85ms/step - loss: 0.6801 - accuracy: 0.5670\n",
            "Epoch 16/30\n",
            "313/313 [==============================] - 26s 84ms/step - loss: 0.6788 - accuracy: 0.5697\n",
            "Epoch 17/30\n",
            "313/313 [==============================] - 27s 85ms/step - loss: 0.6794 - accuracy: 0.5685\n",
            "Epoch 18/30\n",
            "313/313 [==============================] - 27s 85ms/step - loss: 0.6790 - accuracy: 0.5669\n",
            "Epoch 19/30\n",
            "313/313 [==============================] - 27s 85ms/step - loss: 0.6783 - accuracy: 0.5682\n",
            "Epoch 20/30\n",
            "313/313 [==============================] - 27s 85ms/step - loss: 0.6794 - accuracy: 0.5620\n",
            "Epoch 21/30\n",
            "313/313 [==============================] - 27s 85ms/step - loss: 0.6771 - accuracy: 0.5711\n",
            "Epoch 22/30\n",
            "313/313 [==============================] - 27s 86ms/step - loss: 0.6768 - accuracy: 0.5725\n",
            "Epoch 23/30\n",
            "313/313 [==============================] - 28s 89ms/step - loss: 0.6785 - accuracy: 0.5667\n",
            "Epoch 24/30\n",
            "313/313 [==============================] - 27s 86ms/step - loss: 0.6774 - accuracy: 0.5702\n",
            "Epoch 25/30\n",
            "313/313 [==============================] - 27s 85ms/step - loss: 0.6769 - accuracy: 0.5711\n",
            "Epoch 26/30\n",
            "313/313 [==============================] - 27s 85ms/step - loss: 0.6776 - accuracy: 0.5701\n",
            "Epoch 27/30\n",
            "313/313 [==============================] - 27s 86ms/step - loss: 0.6790 - accuracy: 0.5656\n",
            "Epoch 28/30\n",
            "313/313 [==============================] - 27s 86ms/step - loss: 0.6756 - accuracy: 0.5744\n",
            "Epoch 29/30\n",
            "313/313 [==============================] - 27s 86ms/step - loss: 0.6774 - accuracy: 0.5697\n",
            "Epoch 30/30\n",
            "313/313 [==============================] - 27s 85ms/step - loss: 0.6768 - accuracy: 0.5692\n"
          ]
        }
      ],
      "source": [
        "start = time.time()\n",
        "rnl.fit(X_train, y_tr, epochs=ep, batch_size=bs)\n",
        "end = time.time()\n",
        "tm = end - start\n",
        "mac.append([])"
      ]
    },
    {
      "cell_type": "markdown",
      "metadata": {
        "id": "0lAqKHDScVhL"
      },
      "source": [
        "12. convolutional neural network"
      ]
    },
    {
      "cell_type": "code",
      "source": [
        "import keras\n",
        "from keras.models import Sequential\n",
        "from keras.layers import Dense, Conv1D, Flatten, MaxPooling1D\n",
        "from keras.optimizers import Adam\n",
        "from sklearn.metrics import accuracy_score\n",
        "cnn = Sequential()\n",
        "cnn.add(Conv1D(54, 2, activation=\"relu\", input_shape=(86,1)))\n",
        "cnn.add(Dense(13, activation=\"relu\"))\n",
        "cnn.add(MaxPooling1D())\n",
        "cnn.add(Flatten())\n",
        "cnn.add(Dense(2, activation = 'softmax'))\n",
        "cnn.compile(loss='categorical_crossentropy', optimizer=Adam(learning_rate=0.0001), metrics=['accuracy'])\n",
        "cnn.summary()"
      ],
      "metadata": {
        "id": "tIQmqXBeld0K",
        "colab": {
          "base_uri": "https://localhost:8080/"
        },
        "outputId": "074464fc-65d0-47f7-cb1d-1cea2c7174ed"
      },
      "execution_count": 37,
      "outputs": [
        {
          "output_type": "stream",
          "name": "stdout",
          "text": [
            "Model: \"sequential_3\"\n",
            "_________________________________________________________________\n",
            " Layer (type)                Output Shape              Param #   \n",
            "=================================================================\n",
            " conv1d (Conv1D)             (None, 85, 54)            162       \n",
            "                                                                 \n",
            " dense_7 (Dense)             (None, 85, 13)            715       \n",
            "                                                                 \n",
            " max_pooling1d (MaxPooling1D  (None, 42, 13)           0         \n",
            " )                                                               \n",
            "                                                                 \n",
            " flatten (Flatten)           (None, 546)               0         \n",
            "                                                                 \n",
            " dense_8 (Dense)             (None, 2)                 1094      \n",
            "                                                                 \n",
            "=================================================================\n",
            "Total params: 1,971\n",
            "Trainable params: 1,971\n",
            "Non-trainable params: 0\n",
            "_________________________________________________________________\n"
          ]
        }
      ]
    },
    {
      "cell_type": "code",
      "execution_count": 38,
      "metadata": {
        "id": "2Wghyxdz-i8b",
        "colab": {
          "base_uri": "https://localhost:8080/"
        },
        "outputId": "5a754719-66b6-4af5-839e-95a15234ac8b"
      },
      "outputs": [
        {
          "output_type": "stream",
          "name": "stdout",
          "text": [
            "Epoch 1/30\n",
            "313/313 [==============================] - 3s 6ms/step - loss: 0.6884 - accuracy: 0.5665\n",
            "Epoch 2/30\n",
            "313/313 [==============================] - 2s 6ms/step - loss: 0.6682 - accuracy: 0.6422\n",
            "Epoch 3/30\n",
            "313/313 [==============================] - 2s 6ms/step - loss: 0.6404 - accuracy: 0.6700\n",
            "Epoch 4/30\n",
            "313/313 [==============================] - 2s 6ms/step - loss: 0.6195 - accuracy: 0.6891\n",
            "Epoch 5/30\n",
            "313/313 [==============================] - 2s 6ms/step - loss: 0.6091 - accuracy: 0.6894\n",
            "Epoch 6/30\n",
            "313/313 [==============================] - 2s 6ms/step - loss: 0.6036 - accuracy: 0.6909\n",
            "Epoch 7/30\n",
            "313/313 [==============================] - 2s 6ms/step - loss: 0.6001 - accuracy: 0.6935\n",
            "Epoch 8/30\n",
            "313/313 [==============================] - 2s 6ms/step - loss: 0.5973 - accuracy: 0.6960\n",
            "Epoch 9/30\n",
            "313/313 [==============================] - 2s 6ms/step - loss: 0.5951 - accuracy: 0.6962\n",
            "Epoch 10/30\n",
            "313/313 [==============================] - 2s 6ms/step - loss: 0.5932 - accuracy: 0.6952\n",
            "Epoch 11/30\n",
            "313/313 [==============================] - 2s 6ms/step - loss: 0.5917 - accuracy: 0.6980\n",
            "Epoch 12/30\n",
            "313/313 [==============================] - 2s 6ms/step - loss: 0.5902 - accuracy: 0.6985\n",
            "Epoch 13/30\n",
            "313/313 [==============================] - 2s 6ms/step - loss: 0.5891 - accuracy: 0.6998\n",
            "Epoch 14/30\n",
            "313/313 [==============================] - 2s 6ms/step - loss: 0.5880 - accuracy: 0.7013\n",
            "Epoch 15/30\n",
            "313/313 [==============================] - 2s 6ms/step - loss: 0.5871 - accuracy: 0.7007\n",
            "Epoch 16/30\n",
            "313/313 [==============================] - 2s 6ms/step - loss: 0.5863 - accuracy: 0.7012\n",
            "Epoch 17/30\n",
            "313/313 [==============================] - 2s 6ms/step - loss: 0.5857 - accuracy: 0.7014\n",
            "Epoch 18/30\n",
            "313/313 [==============================] - 2s 6ms/step - loss: 0.5851 - accuracy: 0.7002\n",
            "Epoch 19/30\n",
            "313/313 [==============================] - 2s 6ms/step - loss: 0.5845 - accuracy: 0.7008\n",
            "Epoch 20/30\n",
            "313/313 [==============================] - 2s 6ms/step - loss: 0.5840 - accuracy: 0.7015\n",
            "Epoch 21/30\n",
            "313/313 [==============================] - 2s 6ms/step - loss: 0.5839 - accuracy: 0.7013\n",
            "Epoch 22/30\n",
            "313/313 [==============================] - 2s 6ms/step - loss: 0.5833 - accuracy: 0.7008\n",
            "Epoch 23/30\n",
            "313/313 [==============================] - 2s 6ms/step - loss: 0.5830 - accuracy: 0.7017\n",
            "Epoch 24/30\n",
            "313/313 [==============================] - 2s 6ms/step - loss: 0.5828 - accuracy: 0.7017\n",
            "Epoch 25/30\n",
            "313/313 [==============================] - 2s 6ms/step - loss: 0.5825 - accuracy: 0.7035\n",
            "Epoch 26/30\n",
            "313/313 [==============================] - 2s 6ms/step - loss: 0.5823 - accuracy: 0.7014\n",
            "Epoch 27/30\n",
            "313/313 [==============================] - 2s 6ms/step - loss: 0.5820 - accuracy: 0.7031\n",
            "Epoch 28/30\n",
            "313/313 [==============================] - 2s 6ms/step - loss: 0.5819 - accuracy: 0.7001\n",
            "Epoch 29/30\n",
            "313/313 [==============================] - 2s 6ms/step - loss: 0.5816 - accuracy: 0.6965\n",
            "Epoch 30/30\n",
            "313/313 [==============================] - 2s 6ms/step - loss: 0.5814 - accuracy: 0.7002\n"
          ]
        }
      ],
      "source": [
        "start = time.time()\n",
        "cnn.fit(X_train, y_tr, epochs=ep, batch_size=bs)\n",
        "end = time.time()\n",
        "tm = end - start\n",
        "mac.append([])"
      ]
    },
    {
      "cell_type": "code",
      "source": [
        "mode = [nn,rnn,rnl,cnn]\n",
        "for j in range(4) :\n",
        "  i = j+8\n",
        "  model = mode[j]\n",
        "  print(model)\n",
        "  y_pred = model.predict(X_test)\n",
        "  y_pred = np.array(y_pred)\n",
        "  y_pred = np.rint(y_pred)\n",
        "  y_p = np.zeros(y_test.size)\n",
        "  for k in range(y_p.size) :\n",
        "    if(y_pred[k][0]==0) : \n",
        "      y_p[k] = 1\n",
        "  y_pred = y_p\n",
        "  y_pred\n",
        "\n",
        "  y_test = y_test.ravel()\n",
        "\n",
        "  tn, fp, fn, tp = confusion_matrix(y_test, y_pred).ravel()\n",
        "\n",
        "  false_positive_rate = fp / (fp + tn)\n",
        "  mac[i].append(false_positive_rate)\n",
        "\n",
        "  false_negative_rate = fn / (tp + fn)\n",
        "  mac[i].append(false_negative_rate)\n",
        "\n",
        "  false_discovery_rate = fp/ (tp + fp)\n",
        "  mac[i].append(false_discovery_rate)\n",
        "\n",
        "  accuracy = accuracy_score(y_test,y_pred)\n",
        "  mac[i].append(accuracy)\n",
        "\n",
        "  # True Negative Rate | Specificity\n",
        "  true_negative_rate = tn / (tn + fp)\n",
        "  mac[i].append(true_negative_rate)\n",
        "\n",
        "  negative_predictive_value = tn/ (tn + fn)\n",
        "  mac[i].append(negative_predictive_value)\n",
        "\n",
        "  # True Positive Rate | Recall | Sensitivity\n",
        "  recall = recall_score(y_test, y_pred) # or optionally tp / (tp + fn)\n",
        "  mac[i].append(recall)\n",
        "\n",
        "  # Positive Predictive Value | Precision\n",
        "  precision = precision_score(y_test, y_pred) # or optionally tp/ (tp + fp)\n",
        "  mac[i].append(precision)\n",
        "\n",
        "  # F1 score (beta=1)\n",
        "  f1= f1_score(y_test, y_pred) \n",
        "  mac[i].append(f1)\n",
        "\n",
        "  # F2 score (beta=2)\n",
        "  f2 = fbeta_score(y_test, y_pred, beta = 2)\n",
        "  mac[i].append(f2)\n",
        "\n",
        "  # Cohen Kappa Metric\n",
        "  cohen_kappa = cohen_kappa_score(y_test, y_pred)\n",
        "  mac[i].append(cohen_kappa)\n",
        "\n",
        "  # Matthews Correlation Coefficient MCC\n",
        "  matthews_corr = matthews_corrcoef(y_test, y_pred)\n",
        "  mac[i].append(matthews_corr)\n",
        "\n",
        "  # ROC AUC score\n",
        "  roc_auc = roc_auc_score(y_test, y_pred)\n",
        "  mac[i].append(roc_auc)\n",
        "\n",
        "  # PR AUC score | Average precision\n",
        "  avg_precision = average_precision_score(y_test, y_pred)\n",
        "  mac[i].append(avg_precision) "
      ],
      "metadata": {
        "colab": {
          "base_uri": "https://localhost:8080/"
        },
        "id": "3gTyL4oVTQt0",
        "outputId": "79d5fcf4-a526-46de-c740-6487ec88040b"
      },
      "execution_count": 39,
      "outputs": [
        {
          "output_type": "stream",
          "name": "stdout",
          "text": [
            "<keras.engine.sequential.Sequential object at 0x7fa420fa2610>\n",
            "91/91 [==============================] - 0s 2ms/step\n",
            "<keras.engine.sequential.Sequential object at 0x7fa41b1df390>\n",
            "91/91 [==============================] - 1s 6ms/step\n",
            "<keras.engine.sequential.Sequential object at 0x7fa41b1e2cd0>\n",
            "91/91 [==============================] - 2s 15ms/step\n",
            "<keras.engine.sequential.Sequential object at 0x7fa41a19e990>\n",
            "91/91 [==============================] - 0s 3ms/step\n"
          ]
        }
      ]
    },
    {
      "cell_type": "markdown",
      "source": [
        "MABAC "
      ],
      "metadata": {
        "id": "0kTjQpcjwBXl"
      }
    },
    {
      "cell_type": "code",
      "source": [
        "df = pd.DataFrame(np.array(mac))\n",
        "df.to_excel('results.xlsx', sheet_name = 'sheet-a')\n",
        "display(df)"
      ],
      "metadata": {
        "colab": {
          "base_uri": "https://localhost:8080/",
          "height": 469
        },
        "id": "6PUB3U5ecfMG",
        "outputId": "271d614e-b68c-4847-fec1-ed9218f45bcd"
      },
      "execution_count": 40,
      "outputs": [
        {
          "output_type": "display_data",
          "data": {
            "text/plain": [
              "          0         1         2         3         4         5         6   \\\n",
              "0   0.276518  0.371882  0.711458  0.709035  0.723482  0.915941  0.628118   \n",
              "1   0.321457  0.301587  0.720508  0.681553  0.678543  0.926479  0.698413   \n",
              "2   0.320243  0.312925  0.723035  0.680866  0.679757  0.924051  0.687075   \n",
              "3   0.263563  0.324263  0.685985  0.727241  0.736437  0.927115  0.675737   \n",
              "4   0.960729  0.018141  0.845688  0.182068  0.039271  0.923810  0.981859   \n",
              "5   0.357085  0.308390  0.743050  0.650292  0.642915  0.921114  0.691610   \n",
              "6   0.246559  0.337868  0.675916  0.739608  0.753441  0.925871  0.662132   \n",
              "7   0.241700  0.385488  0.687788  0.736517  0.758300  0.916789  0.614512   \n",
              "8   0.273684  0.312925  0.690501  0.720371  0.726316  0.928571  0.687075   \n",
              "9   0.308907  0.319728  0.717780  0.689454  0.691093  0.923701  0.680272   \n",
              "10  0.249798  0.575964  0.767413  0.700790  0.750202  0.879449  0.424036   \n",
              "11  0.283806  0.365079  0.714577  0.703882  0.716194  0.916580  0.634921   \n",
              "\n",
              "          7         8         9         10        11        12        13  \n",
              "0   0.288542  0.395432  0.508443  0.237027  0.268134  0.675800  0.237576  \n",
              "1   0.279492  0.399222  0.537334  0.233318  0.278643  0.688478  0.240889  \n",
              "2   0.276965  0.394788  0.530091  0.228104  0.271549  0.683416  0.237702  \n",
              "3   0.314015  0.428777  0.549208  0.279795  0.315258  0.706087  0.261315  \n",
              "4   0.154312  0.266708  0.473742  0.006598  0.040630  0.510565  0.154261  \n",
              "5   0.256950  0.374693  0.516774  0.197384  0.244063  0.667262  0.224429  \n",
              "6   0.324084  0.435171  0.547842  0.290931  0.322296  0.707786  0.265772  \n",
              "7   0.312212  0.414057  0.514818  0.266734  0.292189  0.686406  0.250257  \n",
              "8   0.309499  0.426761  0.552315  0.275397  0.313714  0.706695  0.260056  \n",
              "9   0.282220  0.398936  0.530598  0.235145  0.276536  0.685683  0.240423  \n",
              "10  0.232587  0.300402  0.364097  0.130215  0.139718  0.587119  0.185881  \n",
              "11  0.285423  0.393812  0.510018  0.233620  0.266320  0.675557  0.236528  "
            ],
            "text/html": [
              "\n",
              "  <div id=\"df-fcad327f-6030-4bcf-811c-f7d3df6e2643\">\n",
              "    <div class=\"colab-df-container\">\n",
              "      <div>\n",
              "<style scoped>\n",
              "    .dataframe tbody tr th:only-of-type {\n",
              "        vertical-align: middle;\n",
              "    }\n",
              "\n",
              "    .dataframe tbody tr th {\n",
              "        vertical-align: top;\n",
              "    }\n",
              "\n",
              "    .dataframe thead th {\n",
              "        text-align: right;\n",
              "    }\n",
              "</style>\n",
              "<table border=\"1\" class=\"dataframe\">\n",
              "  <thead>\n",
              "    <tr style=\"text-align: right;\">\n",
              "      <th></th>\n",
              "      <th>0</th>\n",
              "      <th>1</th>\n",
              "      <th>2</th>\n",
              "      <th>3</th>\n",
              "      <th>4</th>\n",
              "      <th>5</th>\n",
              "      <th>6</th>\n",
              "      <th>7</th>\n",
              "      <th>8</th>\n",
              "      <th>9</th>\n",
              "      <th>10</th>\n",
              "      <th>11</th>\n",
              "      <th>12</th>\n",
              "      <th>13</th>\n",
              "    </tr>\n",
              "  </thead>\n",
              "  <tbody>\n",
              "    <tr>\n",
              "      <th>0</th>\n",
              "      <td>0.276518</td>\n",
              "      <td>0.371882</td>\n",
              "      <td>0.711458</td>\n",
              "      <td>0.709035</td>\n",
              "      <td>0.723482</td>\n",
              "      <td>0.915941</td>\n",
              "      <td>0.628118</td>\n",
              "      <td>0.288542</td>\n",
              "      <td>0.395432</td>\n",
              "      <td>0.508443</td>\n",
              "      <td>0.237027</td>\n",
              "      <td>0.268134</td>\n",
              "      <td>0.675800</td>\n",
              "      <td>0.237576</td>\n",
              "    </tr>\n",
              "    <tr>\n",
              "      <th>1</th>\n",
              "      <td>0.321457</td>\n",
              "      <td>0.301587</td>\n",
              "      <td>0.720508</td>\n",
              "      <td>0.681553</td>\n",
              "      <td>0.678543</td>\n",
              "      <td>0.926479</td>\n",
              "      <td>0.698413</td>\n",
              "      <td>0.279492</td>\n",
              "      <td>0.399222</td>\n",
              "      <td>0.537334</td>\n",
              "      <td>0.233318</td>\n",
              "      <td>0.278643</td>\n",
              "      <td>0.688478</td>\n",
              "      <td>0.240889</td>\n",
              "    </tr>\n",
              "    <tr>\n",
              "      <th>2</th>\n",
              "      <td>0.320243</td>\n",
              "      <td>0.312925</td>\n",
              "      <td>0.723035</td>\n",
              "      <td>0.680866</td>\n",
              "      <td>0.679757</td>\n",
              "      <td>0.924051</td>\n",
              "      <td>0.687075</td>\n",
              "      <td>0.276965</td>\n",
              "      <td>0.394788</td>\n",
              "      <td>0.530091</td>\n",
              "      <td>0.228104</td>\n",
              "      <td>0.271549</td>\n",
              "      <td>0.683416</td>\n",
              "      <td>0.237702</td>\n",
              "    </tr>\n",
              "    <tr>\n",
              "      <th>3</th>\n",
              "      <td>0.263563</td>\n",
              "      <td>0.324263</td>\n",
              "      <td>0.685985</td>\n",
              "      <td>0.727241</td>\n",
              "      <td>0.736437</td>\n",
              "      <td>0.927115</td>\n",
              "      <td>0.675737</td>\n",
              "      <td>0.314015</td>\n",
              "      <td>0.428777</td>\n",
              "      <td>0.549208</td>\n",
              "      <td>0.279795</td>\n",
              "      <td>0.315258</td>\n",
              "      <td>0.706087</td>\n",
              "      <td>0.261315</td>\n",
              "    </tr>\n",
              "    <tr>\n",
              "      <th>4</th>\n",
              "      <td>0.960729</td>\n",
              "      <td>0.018141</td>\n",
              "      <td>0.845688</td>\n",
              "      <td>0.182068</td>\n",
              "      <td>0.039271</td>\n",
              "      <td>0.923810</td>\n",
              "      <td>0.981859</td>\n",
              "      <td>0.154312</td>\n",
              "      <td>0.266708</td>\n",
              "      <td>0.473742</td>\n",
              "      <td>0.006598</td>\n",
              "      <td>0.040630</td>\n",
              "      <td>0.510565</td>\n",
              "      <td>0.154261</td>\n",
              "    </tr>\n",
              "    <tr>\n",
              "      <th>5</th>\n",
              "      <td>0.357085</td>\n",
              "      <td>0.308390</td>\n",
              "      <td>0.743050</td>\n",
              "      <td>0.650292</td>\n",
              "      <td>0.642915</td>\n",
              "      <td>0.921114</td>\n",
              "      <td>0.691610</td>\n",
              "      <td>0.256950</td>\n",
              "      <td>0.374693</td>\n",
              "      <td>0.516774</td>\n",
              "      <td>0.197384</td>\n",
              "      <td>0.244063</td>\n",
              "      <td>0.667262</td>\n",
              "      <td>0.224429</td>\n",
              "    </tr>\n",
              "    <tr>\n",
              "      <th>6</th>\n",
              "      <td>0.246559</td>\n",
              "      <td>0.337868</td>\n",
              "      <td>0.675916</td>\n",
              "      <td>0.739608</td>\n",
              "      <td>0.753441</td>\n",
              "      <td>0.925871</td>\n",
              "      <td>0.662132</td>\n",
              "      <td>0.324084</td>\n",
              "      <td>0.435171</td>\n",
              "      <td>0.547842</td>\n",
              "      <td>0.290931</td>\n",
              "      <td>0.322296</td>\n",
              "      <td>0.707786</td>\n",
              "      <td>0.265772</td>\n",
              "    </tr>\n",
              "    <tr>\n",
              "      <th>7</th>\n",
              "      <td>0.241700</td>\n",
              "      <td>0.385488</td>\n",
              "      <td>0.687788</td>\n",
              "      <td>0.736517</td>\n",
              "      <td>0.758300</td>\n",
              "      <td>0.916789</td>\n",
              "      <td>0.614512</td>\n",
              "      <td>0.312212</td>\n",
              "      <td>0.414057</td>\n",
              "      <td>0.514818</td>\n",
              "      <td>0.266734</td>\n",
              "      <td>0.292189</td>\n",
              "      <td>0.686406</td>\n",
              "      <td>0.250257</td>\n",
              "    </tr>\n",
              "    <tr>\n",
              "      <th>8</th>\n",
              "      <td>0.273684</td>\n",
              "      <td>0.312925</td>\n",
              "      <td>0.690501</td>\n",
              "      <td>0.720371</td>\n",
              "      <td>0.726316</td>\n",
              "      <td>0.928571</td>\n",
              "      <td>0.687075</td>\n",
              "      <td>0.309499</td>\n",
              "      <td>0.426761</td>\n",
              "      <td>0.552315</td>\n",
              "      <td>0.275397</td>\n",
              "      <td>0.313714</td>\n",
              "      <td>0.706695</td>\n",
              "      <td>0.260056</td>\n",
              "    </tr>\n",
              "    <tr>\n",
              "      <th>9</th>\n",
              "      <td>0.308907</td>\n",
              "      <td>0.319728</td>\n",
              "      <td>0.717780</td>\n",
              "      <td>0.689454</td>\n",
              "      <td>0.691093</td>\n",
              "      <td>0.923701</td>\n",
              "      <td>0.680272</td>\n",
              "      <td>0.282220</td>\n",
              "      <td>0.398936</td>\n",
              "      <td>0.530598</td>\n",
              "      <td>0.235145</td>\n",
              "      <td>0.276536</td>\n",
              "      <td>0.685683</td>\n",
              "      <td>0.240423</td>\n",
              "    </tr>\n",
              "    <tr>\n",
              "      <th>10</th>\n",
              "      <td>0.249798</td>\n",
              "      <td>0.575964</td>\n",
              "      <td>0.767413</td>\n",
              "      <td>0.700790</td>\n",
              "      <td>0.750202</td>\n",
              "      <td>0.879449</td>\n",
              "      <td>0.424036</td>\n",
              "      <td>0.232587</td>\n",
              "      <td>0.300402</td>\n",
              "      <td>0.364097</td>\n",
              "      <td>0.130215</td>\n",
              "      <td>0.139718</td>\n",
              "      <td>0.587119</td>\n",
              "      <td>0.185881</td>\n",
              "    </tr>\n",
              "    <tr>\n",
              "      <th>11</th>\n",
              "      <td>0.283806</td>\n",
              "      <td>0.365079</td>\n",
              "      <td>0.714577</td>\n",
              "      <td>0.703882</td>\n",
              "      <td>0.716194</td>\n",
              "      <td>0.916580</td>\n",
              "      <td>0.634921</td>\n",
              "      <td>0.285423</td>\n",
              "      <td>0.393812</td>\n",
              "      <td>0.510018</td>\n",
              "      <td>0.233620</td>\n",
              "      <td>0.266320</td>\n",
              "      <td>0.675557</td>\n",
              "      <td>0.236528</td>\n",
              "    </tr>\n",
              "  </tbody>\n",
              "</table>\n",
              "</div>\n",
              "      <button class=\"colab-df-convert\" onclick=\"convertToInteractive('df-fcad327f-6030-4bcf-811c-f7d3df6e2643')\"\n",
              "              title=\"Convert this dataframe to an interactive table.\"\n",
              "              style=\"display:none;\">\n",
              "        \n",
              "  <svg xmlns=\"http://www.w3.org/2000/svg\" height=\"24px\"viewBox=\"0 0 24 24\"\n",
              "       width=\"24px\">\n",
              "    <path d=\"M0 0h24v24H0V0z\" fill=\"none\"/>\n",
              "    <path d=\"M18.56 5.44l.94 2.06.94-2.06 2.06-.94-2.06-.94-.94-2.06-.94 2.06-2.06.94zm-11 1L8.5 8.5l.94-2.06 2.06-.94-2.06-.94L8.5 2.5l-.94 2.06-2.06.94zm10 10l.94 2.06.94-2.06 2.06-.94-2.06-.94-.94-2.06-.94 2.06-2.06.94z\"/><path d=\"M17.41 7.96l-1.37-1.37c-.4-.4-.92-.59-1.43-.59-.52 0-1.04.2-1.43.59L10.3 9.45l-7.72 7.72c-.78.78-.78 2.05 0 2.83L4 21.41c.39.39.9.59 1.41.59.51 0 1.02-.2 1.41-.59l7.78-7.78 2.81-2.81c.8-.78.8-2.07 0-2.86zM5.41 20L4 18.59l7.72-7.72 1.47 1.35L5.41 20z\"/>\n",
              "  </svg>\n",
              "      </button>\n",
              "      \n",
              "  <style>\n",
              "    .colab-df-container {\n",
              "      display:flex;\n",
              "      flex-wrap:wrap;\n",
              "      gap: 12px;\n",
              "    }\n",
              "\n",
              "    .colab-df-convert {\n",
              "      background-color: #E8F0FE;\n",
              "      border: none;\n",
              "      border-radius: 50%;\n",
              "      cursor: pointer;\n",
              "      display: none;\n",
              "      fill: #1967D2;\n",
              "      height: 32px;\n",
              "      padding: 0 0 0 0;\n",
              "      width: 32px;\n",
              "    }\n",
              "\n",
              "    .colab-df-convert:hover {\n",
              "      background-color: #E2EBFA;\n",
              "      box-shadow: 0px 1px 2px rgba(60, 64, 67, 0.3), 0px 1px 3px 1px rgba(60, 64, 67, 0.15);\n",
              "      fill: #174EA6;\n",
              "    }\n",
              "\n",
              "    [theme=dark] .colab-df-convert {\n",
              "      background-color: #3B4455;\n",
              "      fill: #D2E3FC;\n",
              "    }\n",
              "\n",
              "    [theme=dark] .colab-df-convert:hover {\n",
              "      background-color: #434B5C;\n",
              "      box-shadow: 0px 1px 3px 1px rgba(0, 0, 0, 0.15);\n",
              "      filter: drop-shadow(0px 1px 2px rgba(0, 0, 0, 0.3));\n",
              "      fill: #FFFFFF;\n",
              "    }\n",
              "  </style>\n",
              "\n",
              "      <script>\n",
              "        const buttonEl =\n",
              "          document.querySelector('#df-fcad327f-6030-4bcf-811c-f7d3df6e2643 button.colab-df-convert');\n",
              "        buttonEl.style.display =\n",
              "          google.colab.kernel.accessAllowed ? 'block' : 'none';\n",
              "\n",
              "        async function convertToInteractive(key) {\n",
              "          const element = document.querySelector('#df-fcad327f-6030-4bcf-811c-f7d3df6e2643');\n",
              "          const dataTable =\n",
              "            await google.colab.kernel.invokeFunction('convertToInteractive',\n",
              "                                                     [key], {});\n",
              "          if (!dataTable) return;\n",
              "\n",
              "          const docLinkHtml = 'Like what you see? Visit the ' +\n",
              "            '<a target=\"_blank\" href=https://colab.research.google.com/notebooks/data_table.ipynb>data table notebook</a>'\n",
              "            + ' to learn more about interactive tables.';\n",
              "          element.innerHTML = '';\n",
              "          dataTable['output_type'] = 'display_data';\n",
              "          await google.colab.output.renderOutput(dataTable, element);\n",
              "          const docLink = document.createElement('div');\n",
              "          docLink.innerHTML = docLinkHtml;\n",
              "          element.appendChild(docLink);\n",
              "        }\n",
              "      </script>\n",
              "    </div>\n",
              "  </div>\n",
              "  "
            ]
          },
          "metadata": {}
        }
      ]
    },
    {
      "cell_type": "code",
      "source": [
        "mat = np.array(mac)\n",
        "mat"
      ],
      "metadata": {
        "id": "ESOdGN1wNsBJ",
        "colab": {
          "base_uri": "https://localhost:8080/"
        },
        "outputId": "6a71c28e-4bfe-44bc-b0b9-adb703f68cbf"
      },
      "execution_count": 41,
      "outputs": [
        {
          "output_type": "execute_result",
          "data": {
            "text/plain": [
              "array([[0.27651822, 0.37188209, 0.71145833, 0.7090347 , 0.72348178,\n",
              "        0.91594054, 0.62811791, 0.28854167, 0.39543183, 0.50844347,\n",
              "        0.2370269 , 0.26813408, 0.67579985, 0.23757622],\n",
              "       [0.32145749, 0.3015873 , 0.72050817, 0.68155273, 0.67854251,\n",
              "        0.92647872, 0.6984127 , 0.27949183, 0.39922229, 0.53733426,\n",
              "        0.23331815, 0.27864255, 0.6884776 , 0.24088941],\n",
              "       [0.32024291, 0.31292517, 0.72303473, 0.68086568, 0.67975709,\n",
              "        0.92405063, 0.68707483, 0.27696527, 0.39478827, 0.53009097,\n",
              "        0.22810425, 0.27154935, 0.68341596, 0.23770225],\n",
              "       [0.26356275, 0.32426304, 0.68598525, 0.7272415 , 0.73643725,\n",
              "        0.92711519, 0.67573696, 0.31401475, 0.42877698, 0.54920752,\n",
              "        0.27979492, 0.3152579 , 0.7060871 , 0.26131539],\n",
              "       [0.96072874, 0.01814059, 0.84568781, 0.18206802, 0.03927126,\n",
              "        0.92380952, 0.98185941, 0.15431219, 0.26670773, 0.47374179,\n",
              "        0.00659785, 0.04062959, 0.51056533, 0.15426107],\n",
              "       [0.35708502, 0.30839002, 0.74304971, 0.650292  , 0.64291498,\n",
              "        0.92111369, 0.69160998, 0.25695029, 0.37469287, 0.51677397,\n",
              "        0.19738398, 0.2440632 , 0.66726248, 0.22442873],\n",
              "       [0.2465587 , 0.33786848, 0.67591565, 0.73960838, 0.7534413 ,\n",
              "        0.92587065, 0.66213152, 0.32408435, 0.43517139, 0.5478424 ,\n",
              "        0.29093088, 0.32229567, 0.70778641, 0.26577162],\n",
              "       [0.2417004 , 0.38548753, 0.68778802, 0.73651666, 0.7582996 ,\n",
              "        0.91678904, 0.61451247, 0.31221198, 0.41405653, 0.51481763,\n",
              "        0.2667345 , 0.29218888, 0.68640603, 0.25025733],\n",
              "       [0.27368421, 0.31292517, 0.69050051, 0.72037101, 0.72631579,\n",
              "        0.92857143, 0.68707483, 0.30949949, 0.42676056, 0.55231498,\n",
              "        0.27539722, 0.3137137 , 0.70669531, 0.2600557 ],\n",
              "       [0.30890688, 0.31972789, 0.71777987, 0.6894538 , 0.69109312,\n",
              "        0.9237013 , 0.68027211, 0.28222013, 0.39893617, 0.53059781,\n",
              "        0.23514479, 0.27653582, 0.68568261, 0.24042345],\n",
              "       [0.24979757, 0.57596372, 0.76741294, 0.70079011, 0.75020243,\n",
              "        0.87944945, 0.42403628, 0.23258706, 0.30040161, 0.36409657,\n",
              "        0.13021519, 0.13971792, 0.58711936, 0.18588059],\n",
              "       [0.28380567, 0.36507937, 0.71457696, 0.70388183, 0.71619433,\n",
              "        0.91658031, 0.63492063, 0.28542304, 0.39381153, 0.51001821,\n",
              "        0.23361982, 0.26632011, 0.67555748, 0.23652843]])"
            ]
          },
          "metadata": {},
          "execution_count": 41
        }
      ]
    },
    {
      "cell_type": "code",
      "source": [
        "mm = pd.DataFrame(mat)\n",
        "mx = mm.max()\n",
        "mn = mm.min()\n",
        "for i in range(len(mac)) :\n",
        "  for j in range(3) :\n",
        "    mat[i][j] = mn[j]/mat[i][j]\n",
        "  for j in range(3,13) :\n",
        "    mat[i][j] = mat[i][j]/mx[j]"
      ],
      "metadata": {
        "id": "iO39xRwA25nC"
      },
      "execution_count": 42,
      "outputs": []
    },
    {
      "cell_type": "code",
      "source": [
        "from scipy.stats import gmean\n",
        "w = np.ones((1,14))\n",
        "w = w/16\n",
        "Q = (mat+1)*w\n",
        "Q = Q*w\n",
        "G = gmean(Q,axis=0)\n",
        "Q = Q-G"
      ],
      "metadata": {
        "id": "6kVJAUkIQNeo"
      },
      "execution_count": 43,
      "outputs": []
    },
    {
      "cell_type": "code",
      "source": [
        "final = Q.sum(axis=-1)\n",
        "final"
      ],
      "metadata": {
        "id": "laVauCe4QPgN",
        "colab": {
          "base_uri": "https://localhost:8080/"
        },
        "outputId": "77bbfc5d-d2b0-4144-b697-3dc4cafa9ce2"
      },
      "execution_count": 44,
      "outputs": [
        {
          "output_type": "execute_result",
          "data": {
            "text/plain": [
              "array([ 0.00164887,  0.00140645,  0.00102573,  0.00468177, -0.01263091,\n",
              "       -0.00112147,  0.00550162,  0.00383172,  0.00436497,  0.00151332,\n",
              "       -0.00542559,  0.00139939])"
            ]
          },
          "metadata": {},
          "execution_count": 44
        }
      ]
    },
    {
      "cell_type": "code",
      "source": [
        "ranks = np.zeros(final.size)\n",
        "ranks[np.argsort(final)]=(final.size - np.arange(final.size))\n",
        "ranks"
      ],
      "metadata": {
        "id": "ssxD52FyQRAx",
        "colab": {
          "base_uri": "https://localhost:8080/"
        },
        "outputId": "b81e3540-de74-46d4-cc37-fa0dbf6698b7"
      },
      "execution_count": 45,
      "outputs": [
        {
          "output_type": "execute_result",
          "data": {
            "text/plain": [
              "array([ 5.,  7.,  9.,  2., 12., 10.,  1.,  4.,  3.,  6., 11.,  8.])"
            ]
          },
          "metadata": {},
          "execution_count": 45
        }
      ]
    },
    {
      "cell_type": "code",
      "source": [
        "mode = [\"lr\",\"gb\",\"xgb\",\"svm\",\"nb\",\"dt\",\"rb\",\"knn\",\"nn\",\"rnn\",\"rnl\",\"cnn\"]"
      ],
      "metadata": {
        "id": "MVxglqHMk6u5"
      },
      "execution_count": 46,
      "outputs": []
    },
    {
      "cell_type": "code",
      "source": [
        "plt.scatter(mode, final)\n",
        "plt.show()"
      ],
      "metadata": {
        "colab": {
          "base_uri": "https://localhost:8080/",
          "height": 265
        },
        "id": "-aW_vMzDkOXf",
        "outputId": "bb8df045-f626-4a5b-9e48-746ee25c7371"
      },
      "execution_count": 47,
      "outputs": [
        {
          "output_type": "display_data",
          "data": {
            "text/plain": [
              "<Figure size 432x288 with 1 Axes>"
            ],
            "image/png": "[encoded data removed]"
          },
          "metadata": {
            "needs_background": "light"
          }
        }
      ]
    },
    {
      "cell_type": "code",
      "source": [
        "comp = np.zeros((final.size,2))\n",
        "comp[:,0] = ranks\n",
        "for i in range(len(mac[0])) :\n",
        "  comp[:,1] = Q[:,i]\n",
        "  plt.scatter(comp[:,0], comp[:,1])\n",
        "  plt.show()"
      ],
      "metadata": {
        "id": "lL50hryLQ2kb",
        "colab": {
          "base_uri": "https://localhost:8080/",
          "height": 1000
        },
        "outputId": "44f2e4c9-a8e3-4fc2-f6a6-a490a0fa8185"
      },
      "execution_count": 48,
      "outputs": [
        {
          "output_type": "display_data",
          "data": {
            "text/plain": [
              "<Figure size 432x288 with 1 Axes>"
            ],
            "image/png": "[encoded data removed]"
          },
          "metadata": {
            "needs_background": "light"
          }
        },
        {
          "output_type": "display_data",
          "data": {
            "text/plain": [
              "<Figure size 432x288 with 1 Axes>"
            ],
            "image/png": "[encoded data removed]"
          },
          "metadata": {
            "needs_background": "light"
          }
        },
        {
          "output_type": "display_data",
          "data": {
            "text/plain": [
              "<Figure size 432x288 with 1 Axes>"
            ],
            "image/png": "[encoded data removed]"
          },
          "metadata": {
            "needs_background": "light"
          }
        },
        {
          "output_type": "display_data",
          "data": {
            "text/plain": [
              "<Figure size 432x288 with 1 Axes>"
            ],
            "image/png": "[encoded data removed]"
          },
          "metadata": {
            "needs_background": "light"
          }
        },
        {
          "output_type": "display_data",
          "data": {
            "text/plain": [
              "<Figure size 432x288 with 1 Axes>"
            ],
            "image/png": "[encoded data removed]"
          },
          "metadata": {
            "needs_background": "light"
          }
        },
        {
          "output_type": "display_data",
          "data": {
            "text/plain": [
              "<Figure size 432x288 with 1 Axes>"
            ],
            "image/png": "[encoded data removed]"
          },
          "metadata": {
            "needs_background": "light"
          }
        },
        {
          "output_type": "display_data",
          "data": {
            "text/plain": [
              "<Figure size 432x288 with 1 Axes>"
            ],
            "image/png": "[encoded data removed]"
          },
          "metadata": {
            "needs_background": "light"
          }
        },
        {
          "output_type": "display_data",
          "data": {
            "text/plain": [
              "<Figure size 432x288 with 1 Axes>"
            ],
            "image/png": "[encoded data removed]"
          },
          "metadata": {
            "needs_background": "light"
          }
        },
        {
          "output_type": "display_data",
          "data": {
            "text/plain": [
              "<Figure size 432x288 with 1 Axes>"
            ],
            "image/png": "[encoded data removed]"
          },
          "metadata": {
            "needs_background": "light"
          }
        },
        {
          "output_type": "display_data",
          "data": {
            "text/plain": [
              "<Figure size 432x288 with 1 Axes>"
            ],
            "image/png": "[encoded data removed]"
          },
          "metadata": {
            "needs_background": "light"
          }
        },
        {
          "output_type": "display_data",
          "data": {
            "text/plain": [
              "<Figure size 432x288 with 1 Axes>"
            ],
            "image/png": "[encoded data removed]"
          },
          "metadata": {
            "needs_background": "light"
          }
        },
        {
          "output_type": "display_data",
          "data": {
            "text/plain": [
              "<Figure size 432x288 with 1 Axes>"
            ],
            "image/png": "[encoded data removed]"
          },
          "metadata": {
            "needs_background": "light"
          }
        },
        {
          "output_type": "display_data",
          "data": {
            "text/plain": [
              "<Figure size 432x288 with 1 Axes>"
            ],
            "image/png": "[encoded data removed]"
          },
          "metadata": {
            "needs_background": "light"
          }
        },
        {
          "output_type": "display_data",
          "data": {
            "text/plain": [
              "<Figure size 432x288 with 1 Axes>"
            ],
            "image/png": "[encoded data removed]"
          },
          "metadata": {
            "needs_background": "light"
          }
        }
      ]
    }
  ],
  "metadata": {
    "colab": {
      "provenance": []
    },
    "kernelspec": {
      "display_name": "Python 3",
      "name": "python3"
    },
    "language_info": {
      "name": "python"
    }
  },
  "nbformat": 4,
  "nbformat_minor": 0
}